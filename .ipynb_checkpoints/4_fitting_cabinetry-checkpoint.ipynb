{
 "cells": [
  {
   "cell_type": "markdown",
   "metadata": {},
   "source": [
    "# 1. Define binning and model"
   ]
  },
  {
   "cell_type": "code",
   "execution_count": 1,
   "metadata": {},
   "outputs": [],
   "source": [
    "import glob\n",
    "import numpy as np\n",
    "import pandas\n",
    "import matplotlib.pyplot as plt\n",
    "import matplotlib.colors as colors\n",
    "import matplotlib.cm as cm\n",
    "from tqdm import tqdm\n",
    "import pyhf\n",
    "import cabinetry\n",
    "cabinetry.set_logging()\n",
    "import json\n",
    "import yaml\n",
    "plt.rcParams[\"axes.prop_cycle\"] = plt.cycler(\"color\", plt.cm.tab20.colors)\n",
    "#pyhf.set_backend('numpy','minuit')"
   ]
  },
  {
   "cell_type": "code",
   "execution_count": 2,
   "metadata": {},
   "outputs": [],
   "source": [
    "# Define the range and number of bins\n",
    "start = -0.4\n",
    "end = 0.4\n",
    "num_bins = 20\n",
    "\n",
    "# Create the bin edges\n",
    "bins = np.linspace(start, end, num_bins + 1)\n",
    "\n",
    "# Check for empty bins\n",
    "# empty_bins = [41, 42, 43, 44, 46, 47, 48, 49]\n",
    "\n",
    "# Merge adjacent empty bins\n",
    "# merged_bins = np.delete(bins, empty_bins)"
   ]
  },
  {
   "cell_type": "code",
   "execution_count": 3,
   "metadata": {},
   "outputs": [],
   "source": [
    "# define cabinetry configuration\n",
    "config = {\n",
    "   \"General\":{\n",
    "      \"Measurement\": \"B2Kpi0\",\n",
    "      \"POI\": \"signal_norm\",              # parameter of interest, which we want to measure \n",
    "      \"InputPath\": \"Ntuples/{SamplePath}\",       # where to find input data\n",
    "      \"HistogramFolder\": \"histograms/\"\n",
    "\n",
    "   }\n",
    "}\n",
    "\n",
    "config.update({\n",
    "   \"Regions\":[\n",
    "      {\n",
    "         \"Name\": \"signal_region\",\n",
    "         \"Filter\": \"(abs(B_deltaE)<0.4) & (B_R2<0.45) & (B_cosTBTO<0.8)\",           # event selection \n",
    "         \"Variable\": \"B_deltaE\",             # which variable we bin histograms in\n",
    "         \"Binning\": list(bins)\n",
    "      }\n",
    "   ]\n",
    "})\n",
    "\n",
    "config.update({\n",
    "   \"Samples\":[\n",
    "      {\n",
    "         \"Name\": \"Data\",\n",
    "         \"Tree\": \"Bsig\",\n",
    "         \"SamplePath\": ['MC15ri_b_Kpi0_generic_200fb_8/charged.root',\n",
    "                        'MC15ri_b_Kpi0_generic_200fb_8/mixed.root',\n",
    "                        'MC15ri_b_Kpi0_generic_200fb_8/ssbar.root',\n",
    "                        'MC15ri_b_Kpi0_generic_200fb_8/ccbar.root'],\n",
    "         \"Data\": True                       # observed data is handled differently, need to distinguish\n",
    "      },\n",
    "      {\n",
    "         \"Name\": \"signal\",\n",
    "         \"Tree\": \"Bsig\",\n",
    "         \"SamplePath\": [\"MC15ri_b_Kpi0_signal_8/00.root\"],\n",
    "         \"Weight\": '0.015'                 # weights: Monte Carlo integration, simulation correction etc.\n",
    "      },\n",
    "      {\n",
    "         \"Name\": \"qqbar\",\n",
    "         \"Tree\": \"Bsig\",\n",
    "         \"SamplePath\": ['MC15ri_b_Kpi0_generic_200fb_9/ssbar.root',\n",
    "                        'MC15ri_b_Kpi0_generic_200fb_9/ccbar.root'],\n",
    "         \"Weight\": \"__weight__\"\n",
    "      },\n",
    "       {\n",
    "         \"Name\": \"BBbar\",\n",
    "         \"Tree\": \"Bsig\",\n",
    "         \"Filter\": \"(B_mcErrors>0) & (B_mcErrors!=128) & (abs(B_deltaE)<0.4) & (B_R2<0.45) & (B_cosTBTO<0.8)\",\n",
    "         \"SamplePath\": ['MC15ri_b_Kpi0_generic_200fb_9/charged.root',\n",
    "                        'MC15ri_b_Kpi0_generic_200fb_9/mixed.root'],\n",
    "         \"Weight\": \"__weight__\"                 # weights: Monte Carlo integration, simulation correction etc.\n",
    "      },\n",
    "       {\n",
    "         \"Name\": \"misID\",\n",
    "         \"Tree\": \"Bsig\",\n",
    "         \"Filter\": \"(B_mcErrors==128) & (abs(B_deltaE)<0.4) & (B_R2<0.45) & (B_cosTBTO<0.8)\",\n",
    "         \"SamplePath\": [\"MC15ri_b_Kpi0_misID/misID.root\"],\n",
    "         \"Weight\": '0.001'                 # weights: Monte Carlo integration, simulation correction etc.\n",
    "      }\n",
    "   ]\n",
    "})\n",
    "\n",
    "config.update({\"Systematics\": []})\n",
    "\n",
    "config.update({\n",
    "   \"NormFactors\":[\n",
    "      {\n",
    "         \"Name\": \"signal_norm\",\n",
    "         \"Samples\": \"signal\",    # we want this parameter to scale the signal\n",
    "         \"Nominal\": 1,\n",
    "         \"Bounds\": [0, 5]\n",
    "      },\n",
    "        {\n",
    "         \"Name\": \"qqbar_norm\",\n",
    "         \"Samples\": \"qqbar\",\n",
    "         \"Nominal\": 1,\n",
    "         \"Bounds\": [0, 5]\n",
    "      },\n",
    "       {\n",
    "         \"Name\": \"BBbar_norm\",\n",
    "         \"Samples\": \"BBbar\",\n",
    "         \"Nominal\": 1,\n",
    "         \"Bounds\": [0, 5]\n",
    "      },\n",
    "        {\n",
    "         \"Name\": \"misID_norm\",\n",
    "         \"Samples\": \"misID\",\n",
    "         \"Nominal\": 1,\n",
    "         \"Bounds\": [0, 5]\n",
    "      }\n",
    "   ]\n",
    "})\n",
    "\n",
    "\n",
    "# config.update({\n",
    "#    \"Systematics\":[\n",
    "#       {\n",
    "#          \"Name\": \"Luminosity\",\n",
    "#          \"Up\": {\"Normalization\": 0.05},\n",
    "#          \"Down\": {\"Normalization\": -0.05},\n",
    "#          \"Type\": \"Normalization\"\n",
    "#       },\n",
    "#       {\n",
    "#          \"Name\":\"Modeling\",\n",
    "#          \"Up\": {\"Tree\": \"B\"},\n",
    "#          \"Down\": {\"Symmetrize\": True},\n",
    "#          \"Samples\": \"signal\",\n",
    "#          \"Type\": \"NormPlusShape\"\n",
    "#       },\n",
    "#       {\n",
    "#          \"Name\": \"WeightBasedModeling\",\n",
    "#          \"Up\": {\"Weight\": \"__weight__\"},\n",
    "#          \"Down\": {\"Weight\": \"0.7*__weight__\"},\n",
    "#          \"Samples\": \"qqbar\",\n",
    "#          \"Type\": \"NormPlusShape\"\n",
    "#       }\n",
    "#    ],\n",
    "# })"
   ]
  },
  {
   "cell_type": "code",
   "execution_count": 4,
   "metadata": {},
   "outputs": [
    {
     "data": {
      "text/plain": [
       "True"
      ]
     },
     "execution_count": 4,
     "metadata": {},
     "output_type": "execute_result"
    }
   ],
   "source": [
    "cabinetry.configuration.validate(config)"
   ]
  },
  {
   "cell_type": "code",
   "execution_count": 5,
   "metadata": {},
   "outputs": [
    {
     "name": "stderr",
     "output_type": "stream",
     "text": [
      "INFO - cabinetry.configuration - the config contains:\n",
      "INFO - cabinetry.configuration -   5 Sample(s)\n",
      "INFO - cabinetry.configuration -   1 Regions(s)\n",
      "INFO - cabinetry.configuration -   4 NormFactor(s)\n",
      "INFO - cabinetry.configuration -   0 Systematic(s)\n"
     ]
    }
   ],
   "source": [
    "cabinetry.configuration.print_overview(config)"
   ]
  },
  {
   "cell_type": "code",
   "execution_count": 6,
   "metadata": {},
   "outputs": [
    {
     "name": "stderr",
     "output_type": "stream",
     "text": [
      "DEBUG - cabinetry.route -   in region signal_region\n",
      "DEBUG - cabinetry.route -     reading sample Data\n",
      "DEBUG - cabinetry.route -       variation Nominal\n",
      "DEBUG - cabinetry.histo - saving histogram to histograms/signal_region_Data.npz\n",
      "DEBUG - cabinetry.route -     reading sample signal\n",
      "DEBUG - cabinetry.route -       variation Nominal\n",
      "DEBUG - cabinetry.histo - saving histogram to histograms/signal_region_signal.npz\n",
      "DEBUG - cabinetry.route -     reading sample qqbar\n",
      "DEBUG - cabinetry.route -       variation Nominal\n",
      "DEBUG - cabinetry.histo - saving histogram to histograms/signal_region_qqbar.npz\n",
      "DEBUG - cabinetry.route -     reading sample BBbar\n",
      "DEBUG - cabinetry.route -       variation Nominal\n",
      "WARNING - cabinetry.histo - signal_region_BBbar has empty bins: [10 11 13 14 15 16 17 18 19]\n",
      "DEBUG - cabinetry.histo - saving histogram to histograms/signal_region_BBbar.npz\n",
      "DEBUG - cabinetry.route -     reading sample misID\n",
      "DEBUG - cabinetry.route -       variation Nominal\n",
      "DEBUG - cabinetry.histo - saving histogram to histograms/signal_region_misID.npz\n"
     ]
    }
   ],
   "source": [
    "cabinetry.templates.build(config, method=\"uproot\")"
   ]
  },
  {
   "cell_type": "code",
   "execution_count": 7,
   "metadata": {},
   "outputs": [
    {
     "name": "stderr",
     "output_type": "stream",
     "text": [
      "DEBUG - cabinetry.route -   in region signal_region\n",
      "DEBUG - cabinetry.route -     reading sample Data\n",
      "DEBUG - cabinetry.route -       variation Nominal\n",
      "DEBUG - cabinetry.histo - saving histogram to histograms/signal_region_Data_modified.npz\n",
      "DEBUG - cabinetry.route -     reading sample signal\n",
      "DEBUG - cabinetry.route -       variation Nominal\n",
      "DEBUG - cabinetry.histo - saving histogram to histograms/signal_region_signal_modified.npz\n",
      "DEBUG - cabinetry.route -     reading sample qqbar\n",
      "DEBUG - cabinetry.route -       variation Nominal\n",
      "DEBUG - cabinetry.histo - saving histogram to histograms/signal_region_qqbar_modified.npz\n",
      "DEBUG - cabinetry.route -     reading sample BBbar\n",
      "DEBUG - cabinetry.route -       variation Nominal\n",
      "WARNING - cabinetry.histo - signal_region_BBbar has empty bins: [10 11 13 14 15 16 17 18 19]\n",
      "DEBUG - cabinetry.histo - saving histogram to histograms/signal_region_BBbar_modified.npz\n",
      "DEBUG - cabinetry.route -     reading sample misID\n",
      "DEBUG - cabinetry.route -       variation Nominal\n",
      "DEBUG - cabinetry.histo - saving histogram to histograms/signal_region_misID_modified.npz\n"
     ]
    }
   ],
   "source": [
    "cabinetry.templates.postprocess(config)"
   ]
  },
  {
   "cell_type": "code",
   "execution_count": 8,
   "metadata": {},
   "outputs": [
    {
     "name": "stderr",
     "output_type": "stream",
     "text": [
      "INFO - cabinetry.visualize - visualizing histogram\n",
      "INFO - cabinetry.visualize.utils - saving figure as figures/signal_region_prefit.pdf\n"
     ]
    },
    {
     "data": {
      "image/png": "[encoded data removed]",
      "text/plain": [
       "<Figure size 432x432 with 2 Axes>"
      ]
     },
     "metadata": {
      "needs_background": "light"
     },
     "output_type": "display_data"
    }
   ],
   "source": [
    "_ = cabinetry.visualize.data_mc_from_histograms(config)"
   ]
  },
  {
   "cell_type": "markdown",
   "metadata": {},
   "source": [
    "# 2. Create a pyhf workspace"
   ]
  },
  {
   "cell_type": "code",
   "execution_count": 136,
   "metadata": {},
   "outputs": [
    {
     "name": "stderr",
     "output_type": "stream",
     "text": [
      "INFO - cabinetry.workspace - building workspace\n",
      "DEBUG - cabinetry.workspace - adding NormFactor signal_norm to sample signal in region signal_region\n",
      "DEBUG - cabinetry.workspace - adding NormFactor qqbar_norm to sample qqbar in region signal_region\n",
      "DEBUG - cabinetry.workspace - adding NormFactor BBbar_norm to sample BBbar in region signal_region\n",
      "DEBUG - cabinetry.workspace - adding NormFactor misID_norm to sample misID in region signal_region\n",
      "INFO - pyhf.workspace - Validating spec against schema: workspace.json\n",
      "DEBUG - cabinetry.workspace - saving workspace to B2Kpi0_workspace.json\n"
     ]
    }
   ],
   "source": [
    "workspace_path = \"B2Kpi0_workspace.json\"\n",
    "spec = cabinetry.workspace.build(config)\n",
    "cabinetry.workspace.save(spec, workspace_path)"
   ]
  },
  {
   "cell_type": "code",
   "execution_count": 137,
   "metadata": {},
   "outputs": [
    {
     "name": "stdout",
     "output_type": "stream",
     "text": [
      "{\n",
      "    \"channels\": [\n",
      "        {\n",
      "            \"name\": \"signal_region\",\n",
      "            \"samples\": [\n",
      "                {\n",
      "                    \"data\": [\n",
      "                        1.6199999999999968,\n",
      "                        2.4899999999999984,\n",
      "                        3.8100000000000094,\n",
      "                        5.804999999999972,\n",
      "                        9.47999999999998,\n",
      "                        16.755000000000255,\n",
      "                        29.415000000000735,\n",
      "                        60.75000000000192,\n",
      "                        124.00500000000432,\n",
      "                        181.34999999995594,\n",
      "                        124.56000000000434,\n",
      "                        27.345000000000656,\n",
      "                        3.9600000000000106,\n",
      "                        1.289999999999999,\n",
      "                        0.6450000000000005,\n",
      "                        0.27000000000000013,\n",
      "                        0.2250000000000001,\n",
      "                        0.12,\n",
      "                        0.075,\n",
      "                        0.06\n",
      "                    ],\n",
      "                    \"modifiers\": [\n",
      "                        {\n",
      "                            \"data\": [\n",
      "                                0.15588457268119887,\n",
      "                                0.19326148090087697,\n",
      "                                0.23906066175763904,\n",
      "                                0.2950847335935912,\n",
      "                                0.3770941526992979,\n",
      "                                0.5013232490120548,\n",
      "                                0.6642476947645222,\n",
      "                                0.9545941546018556,\n",
      "                                1.3638456657553804,\n",
      "                                1.6493180408882424,\n",
      "                                1.3668942899872447,\n",
      "                                0.6404490612062642,\n",
      "                                0.2437211521390795,\n",
      "                                0.1391042774324355,\n",
      "                                0.09836157786453002,\n",
      "                                0.06363961030678927,\n",
      "                                0.05809475019311125,\n",
      "                                0.04242640687119285,\n",
      "                                0.03354101966249685,\n",
      "                                0.03\n",
      "                            ],\n",
      "                            \"name\": \"staterror_signal_region\",\n",
      "                            \"type\": \"staterror\"\n",
      "                        },\n",
      "                        {\n",
      "                            \"data\": null,\n",
      "                            \"name\": \"signal_norm\",\n",
      "                            \"type\": \"normfactor\"\n",
      "                        }\n",
      "                    ],\n",
      "                    \"name\": \"signal\"\n",
      "                },\n",
      "                {\n",
      "                    \"data\": [\n",
      "                        489.0,\n",
      "                        492.0,\n",
      "                        447.0,\n",
      "                        402.0,\n",
      "                        339.0,\n",
      "                        326.0,\n",
      "                        301.0,\n",
      "                        266.0,\n",
      "                        240.0,\n",
      "                        236.0,\n",
      "                        199.0,\n",
      "                        175.0,\n",
      "                        172.0,\n",
      "                        139.0,\n",
      "                        125.0,\n",
      "                        127.0,\n",
      "                        100.0,\n",
      "                        90.0,\n",
      "                        75.0,\n",
      "                        72.0\n",
      "                    ],\n",
      "                    \"modifiers\": [\n",
      "                        {\n",
      "                            \"data\": [\n",
      "                                22.11334438749598,\n",
      "                                22.181073012818835,\n",
      "                                21.142374511865974,\n",
      "                                20.049937655763422,\n",
      "                                18.411952639521967,\n",
      "                                18.05547008526779,\n",
      "                                17.349351572897472,\n",
      "                                16.30950643030009,\n",
      "                                15.491933384829668,\n",
      "                                15.362291495737216,\n",
      "                                14.106735979665885,\n",
      "                                13.228756555322953,\n",
      "                                13.114877048604,\n",
      "                                11.789826122551595,\n",
      "                                11.180339887498949,\n",
      "                                11.269427669584644,\n",
      "                                10.0,\n",
      "                                9.486832980505138,\n",
      "                                8.660254037844387,\n",
      "                                8.48528137423857\n",
      "                            ],\n",
      "                            \"name\": \"staterror_signal_region\",\n",
      "                            \"type\": \"staterror\"\n",
      "                        },\n",
      "                        {\n",
      "                            \"data\": null,\n",
      "                            \"name\": \"qqbar_norm\",\n",
      "                            \"type\": \"normfactor\"\n",
      "                        }\n",
      "                    ],\n",
      "                    \"name\": \"qqbar\"\n",
      "                },\n",
      "                {\n",
      "                    \"data\": [\n",
      "                        43.0,\n",
      "                        34.0,\n",
      "                        43.0,\n",
      "                        34.0,\n",
      "                        34.0,\n",
      "                        27.0,\n",
      "                        8.0,\n",
      "                        2.0,\n",
      "                        2.0,\n",
      "                        3.0,\n",
      "                        0.0,\n",
      "                        0.0,\n",
      "                        1.0,\n",
      "                        0.0,\n",
      "                        0.0,\n",
      "                        0.0,\n",
      "                        0.0,\n",
      "                        0.0,\n",
      "                        0.0,\n",
      "                        0.0\n",
      "                    ],\n",
      "                    \"modifiers\": [\n",
      "                        {\n",
      "                            \"data\": [\n",
      "                                6.557438524302,\n",
      "                                5.830951894845301,\n",
      "                                6.557438524302,\n",
      "                                5.830951894845301,\n",
      "                                5.830951894845301,\n",
      "                                5.196152422706632,\n",
      "                                2.8284271247461903,\n",
      "                                1.4142135623730951,\n",
      "                                1.4142135623730951,\n",
      "                                1.7320508075688772,\n",
      "                                0.0,\n",
      "                                0.0,\n",
      "                                1.0,\n",
      "                                0.0,\n",
      "                                0.0,\n",
      "                                0.0,\n",
      "                                0.0,\n",
      "                                0.0,\n",
      "                                0.0,\n",
      "                                0.0\n",
      "                            ],\n",
      "                            \"name\": \"staterror_signal_region\",\n",
      "                            \"type\": \"staterror\"\n",
      "                        },\n",
      "                        {\n",
      "                            \"data\": null,\n",
      "                            \"name\": \"BBbar_norm\",\n",
      "                            \"type\": \"normfactor\"\n",
      "                        }\n",
      "                    ],\n",
      "                    \"name\": \"BBbar\"\n",
      "                },\n",
      "                {\n",
      "                    \"data\": [\n",
      "                        0.03400000000000002,\n",
      "                        0.04400000000000003,\n",
      "                        0.07800000000000006,\n",
      "                        0.10300000000000008,\n",
      "                        0.17700000000000013,\n",
      "                        0.2860000000000002,\n",
      "                        0.4870000000000004,\n",
      "                        0.8460000000000006,\n",
      "                        1.786999999999914,\n",
      "                        3.55199999999972,\n",
      "                        5.088000000000034,\n",
      "                        3.530999999999722,\n",
      "                        0.8040000000000006,\n",
      "                        0.1320000000000001,\n",
      "                        0.02900000000000002,\n",
      "                        0.025000000000000015,\n",
      "                        0.023000000000000013,\n",
      "                        0.008,\n",
      "                        0.002,\n",
      "                        0.005\n",
      "                    ],\n",
      "                    \"modifiers\": [\n",
      "                        {\n",
      "                            \"data\": [\n",
      "                                0.0058309518948453,\n",
      "                                0.006633249580710798,\n",
      "                                0.00883176086632784,\n",
      "                                0.01014889156509221,\n",
      "                                0.013304134695650055,\n",
      "                                0.016911534525287777,\n",
      "                                0.02206807649071403,\n",
      "                                0.029086079144498216,\n",
      "                                0.0422729227756959,\n",
      "                                0.05959865770300659,\n",
      "                                0.0713302180005105,\n",
      "                                0.059422218066983536,\n",
      "                                0.02835489375751588,\n",
      "                                0.011489125293076045,\n",
      "                                0.005385164807134505,\n",
      "                                0.005000000000000001,\n",
      "                                0.00479583152331272,\n",
      "                                0.00282842712474619,\n",
      "                                0.001414213562373095,\n",
      "                                0.0022360679774997894\n",
      "                            ],\n",
      "                            \"name\": \"staterror_signal_region\",\n",
      "                            \"type\": \"staterror\"\n",
      "                        },\n",
      "                        {\n",
      "                            \"data\": null,\n",
      "                            \"name\": \"misID_norm\",\n",
      "                            \"type\": \"normfactor\"\n",
      "                        }\n",
      "                    ],\n",
      "                    \"name\": \"misID\"\n",
      "                }\n",
      "            ]\n",
      "        }\n",
      "    ],\n",
      "    \"measurements\": [\n",
      "        {\n",
      "            \"config\": {\n",
      "                \"parameters\": [\n",
      "                    {\n",
      "                        \"bounds\": [\n",
      "                            [\n",
      "                                0,\n",
      "                                5\n",
      "                            ]\n",
      "                        ],\n",
      "                        \"inits\": [\n",
      "                            1\n",
      "                        ],\n",
      "                        \"name\": \"signal_norm\"\n",
      "                    },\n",
      "                    {\n",
      "                        \"bounds\": [\n",
      "                            [\n",
      "                                0,\n",
      "                                5\n",
      "                            ]\n",
      "                        ],\n",
      "                        \"inits\": [\n",
      "                            1\n",
      "                        ],\n",
      "                        \"name\": \"qqbar_norm\"\n",
      "                    },\n",
      "                    {\n",
      "                        \"bounds\": [\n",
      "                            [\n",
      "                                0,\n",
      "                                5\n",
      "                            ]\n",
      "                        ],\n",
      "                        \"inits\": [\n",
      "                            1\n",
      "                        ],\n",
      "                        \"name\": \"BBbar_norm\"\n",
      "                    },\n",
      "                    {\n",
      "                        \"bounds\": [\n",
      "                            [\n",
      "                                0,\n",
      "                                5\n",
      "                            ]\n",
      "                        ],\n",
      "                        \"inits\": [\n",
      "                            1\n",
      "                        ],\n",
      "                        \"name\": \"misID_norm\"\n",
      "                    }\n",
      "                ],\n",
      "                \"poi\": \"signal_norm\"\n",
      "            },\n",
      "            \"name\": \"B2Kpi0\"\n",
      "        }\n",
      "    ],\n",
      "    \"observations\": [\n",
      "        {\n",
      "            \"data\": [\n",
      "                538.0,\n",
      "                543.0,\n",
      "                523.0,\n",
      "                445.0,\n",
      "                439.0,\n",
      "                372.0,\n",
      "                345.0,\n",
      "                343.0,\n",
      "                342.0,\n",
      "                410.0,\n",
      "                335.0,\n",
      "                209.0,\n",
      "                174.0,\n",
      "                142.0,\n",
      "                130.0,\n",
      "                99.0,\n",
      "                114.0,\n",
      "                91.0,\n",
      "                101.0,\n",
      "                79.0\n",
      "            ],\n",
      "            \"name\": \"signal_region\"\n",
      "        }\n",
      "    ],\n",
      "    \"version\": \"1.0.0\"\n",
      "}\n"
     ]
    }
   ],
   "source": [
    "print(json.dumps(spec, sort_keys=True, indent=4))"
   ]
  },
  {
   "cell_type": "code",
   "execution_count": 138,
   "metadata": {},
   "outputs": [
    {
     "name": "stderr",
     "output_type": "stream",
     "text": [
      "INFO - pyhf.workspace - Validating spec against schema: workspace.json\n",
      "INFO - pyhf.pdf - Validating spec against schema: model.json\n",
      "INFO - pyhf.pdf - adding modifier BBbar_norm (1 new nuisance parameters)\n",
      "INFO - pyhf.pdf - adding modifier misID_norm (1 new nuisance parameters)\n",
      "INFO - pyhf.pdf - adding modifier qqbar_norm (1 new nuisance parameters)\n",
      "INFO - pyhf.pdf - adding modifier signal_norm (1 new nuisance parameters)\n",
      "INFO - pyhf.pdf - adding modifier staterror_signal_region (20 new nuisance parameters)\n",
      "INFO - cabinetry.visualize.utils - saving figure as figures/modifier_grid.pdf\n"
     ]
    },
    {
     "data": {
      "image/png": "[encoded data removed]",
      "text/plain": [
       "<Figure size 310.737x306 with 2 Axes>"
      ]
     },
     "execution_count": 138,
     "metadata": {},
     "output_type": "execute_result"
    }
   ],
   "source": [
    "cabinetry.visualize.modifier_grid(pyhf.Workspace(spec).model())"
   ]
  },
  {
   "cell_type": "code",
   "execution_count": 139,
   "metadata": {},
   "outputs": [
    {
     "name": "stderr",
     "output_type": "stream",
     "text": [
      "INFO - pyhf.workspace - Validating spec against schema: workspace.json\n",
      "INFO - pyhf.pdf - Validating spec against schema: model.json\n",
      "INFO - pyhf.pdf - adding modifier BBbar_norm (1 new nuisance parameters)\n",
      "INFO - pyhf.pdf - adding modifier misID_norm (1 new nuisance parameters)\n",
      "INFO - pyhf.pdf - adding modifier qqbar_norm (1 new nuisance parameters)\n",
      "INFO - pyhf.pdf - adding modifier signal_norm (1 new nuisance parameters)\n",
      "INFO - pyhf.pdf - adding modifier staterror_signal_region (20 new nuisance parameters)\n"
     ]
    }
   ],
   "source": [
    "model, data = cabinetry.model_utils.model_and_data(spec)"
   ]
  },
  {
   "cell_type": "markdown",
   "metadata": {},
   "source": [
    "# 3. MLE"
   ]
  },
  {
   "cell_type": "code",
   "execution_count": 140,
   "metadata": {},
   "outputs": [
    {
     "name": "stderr",
     "output_type": "stream",
     "text": [
      "INFO - cabinetry.fit - performing maximum likelihood fit\n",
      "INFO - cabinetry.fit - Migrad status:\n",
      "┌─────────────────────────────────────────────────────────────────────────┐\n",
      "│                                Migrad                                   │\n",
      "├──────────────────────────────────┬──────────────────────────────────────┤\n",
      "│ FCN = 84.29                      │              Nfcn = 893              │\n",
      "│ EDM = 2.92e-08 (Goal: 0.0002)    │                                      │\n",
      "├──────────────────────────────────┼──────────────────────────────────────┤\n",
      "│          Valid Minimum           │       SOME Parameters at limit       │\n",
      "├──────────────────────────────────┼──────────────────────────────────────┤\n",
      "│ Below EDM threshold (goal x 10)  │           Below call limit           │\n",
      "├───────────────┬──────────────────┼───────────┬─────────────┬────────────┤\n",
      "│  Covariance   │     Hesse ok     │ Accurate  │  Pos. def.  │ Not forced │\n",
      "└───────────────┴──────────────────┴───────────┴─────────────┴────────────┘\n",
      "DEBUG - cabinetry.fit - -2 log(L) = 84.292453 at best-fit point\n",
      "INFO - cabinetry.fit - fit results (with symmetric uncertainties):\n",
      "INFO - cabinetry.fit - BBbar_norm                  =  1.3105 +/- 0.6023\n",
      "INFO - cabinetry.fit - misID_norm                  =  3.4496 +/- 4.0797\n",
      "INFO - cabinetry.fit - qqbar_norm                  =  1.0223 +/- 0.0435\n",
      "INFO - cabinetry.fit - signal_norm                 =  0.8406 +/- 0.1723\n",
      "INFO - cabinetry.fit - staterror_signal_region[0]  =  0.9818 +/- 0.0332\n",
      "INFO - cabinetry.fit - staterror_signal_region[1]  =  0.9937 +/- 0.0326\n",
      "INFO - cabinetry.fit - staterror_signal_region[2]  =  1.0061 +/- 0.0348\n",
      "INFO - cabinetry.fit - staterror_signal_region[3]  =  0.9825 +/- 0.0357\n",
      "INFO - cabinetry.fit - staterror_signal_region[4]  =  1.0484 +/- 0.0387\n",
      "INFO - cabinetry.fit - staterror_signal_region[5]  =  0.9847 +/- 0.0380\n",
      "INFO - cabinetry.fit - staterror_signal_region[6]  =  1.0005 +/- 0.0391\n",
      "INFO - cabinetry.fit - staterror_signal_region[7]  =  1.0195 +/- 0.0393\n",
      "INFO - cabinetry.fit - staterror_signal_region[8]  =  0.9819 +/- 0.0365\n",
      "INFO - cabinetry.fit - staterror_signal_region[9]  =  1.0001 +/- 0.0333\n",
      "INFO - cabinetry.fit - staterror_signal_region[10] =  1.0107 +/- 0.0386\n",
      "INFO - cabinetry.fit - staterror_signal_region[11] =  0.9888 +/- 0.0583\n",
      "INFO - cabinetry.fit - staterror_signal_region[12] =  0.9744 +/- 0.0556\n",
      "INFO - cabinetry.fit - staterror_signal_region[13] =  0.9942 +/- 0.0626\n",
      "INFO - cabinetry.fit - staterror_signal_region[14] =  1.0061 +/- 0.0661\n",
      "INFO - cabinetry.fit - staterror_signal_region[15] =  0.8709 +/- 0.0658\n",
      "INFO - cabinetry.fit - staterror_signal_region[16] =  1.0551 +/- 0.0733\n",
      "INFO - cabinetry.fit - staterror_signal_region[17] =  0.9937 +/- 0.0771\n",
      "INFO - cabinetry.fit - staterror_signal_region[18] =  1.1487 +/- 0.0840\n",
      "INFO - cabinetry.fit - staterror_signal_region[19] =  1.0359 +/- 0.0856\n"
     ]
    }
   ],
   "source": [
    "pyhf.set_backend('numpy','scipy')\n",
    "parameters = pyhf.infer.mle.fit(data=data, pdf=model)\n",
    "fit_results = cabinetry.fit.fit(model=model, data=data,init_pars=list(parameters))"
   ]
  },
  {
   "cell_type": "code",
   "execution_count": null,
   "metadata": {},
   "outputs": [],
   "source": [
    "for label, result, unc in zip(fit_results.labels, fit_results.bestfit, fit_results.uncertainty):\n",
    "    print(f\"{label}: {result:.3f} +/- {unc:.3f}\")"
   ]
  },
  {
   "cell_type": "code",
   "execution_count": 15,
   "metadata": {},
   "outputs": [
    {
     "name": "stderr",
     "output_type": "stream",
     "text": [
      "INFO - cabinetry.visualize.utils - saving figure as figures/pulls.pdf\n"
     ]
    },
    {
     "data": {
      "image/png": "[encoded data removed]",
      "text/plain": [
       "<Figure size 600x150 with 1 Axes>"
      ]
     },
     "execution_count": 15,
     "metadata": {},
     "output_type": "execute_result"
    }
   ],
   "source": [
    "cabinetry.visualize.pulls(fit_results)"
   ]
  },
  {
   "cell_type": "code",
   "execution_count": null,
   "metadata": {},
   "outputs": [],
   "source": [
    "cabinetry.visualize.correlation_matrix(fit_results, pruning_threshold=0.1)"
   ]
  },
  {
   "cell_type": "code",
   "execution_count": 101,
   "metadata": {},
   "outputs": [
    {
     "name": "stderr",
     "output_type": "stream",
     "text": [
      "DEBUG - cabinetry.model_utils - total stdev is [[67.7, 64.8, 62.4, 61.3, 61.9, 63.7, ..., 38.3, 35.1, 32.9, 31.7, 30, 29.2]]\n",
      "DEBUG - cabinetry.model_utils - total stdev per channel is [349]\n",
      "INFO - cabinetry.visualize.utils - saving figure as figures/signal_region_prefit.pdf\n"
     ]
    },
    {
     "data": {
      "image/png": "[encoded data removed]",
      "text/plain": [
       "<Figure size 432x432 with 2 Axes>"
      ]
     },
     "metadata": {
      "needs_background": "light"
     },
     "output_type": "display_data"
    }
   ],
   "source": [
    "model_pred = cabinetry.model_utils.prediction(model)\n",
    "figures = cabinetry.visualize.data_mc(model_pred, data, config=config)"
   ]
  },
  {
   "cell_type": "code",
   "execution_count": 102,
   "metadata": {},
   "outputs": [
    {
     "name": "stderr",
     "output_type": "stream",
     "text": [
      "DEBUG - cabinetry.model_utils - total stdev is [[72, 67.8, 62.4, 58.4, 60.4, 47.8, ..., 26.6, 24.7, 23.6, 22.7, 21.5, 20.9]]\n",
      "DEBUG - cabinetry.model_utils - total stdev per channel is [370]\n",
      "INFO - cabinetry.visualize.utils - saving figure as figures/signal_region_postfit.pdf\n"
     ]
    },
    {
     "data": {
      "image/png": "[encoded data removed]",
      "text/plain": [
       "<Figure size 432x432 with 2 Axes>"
      ]
     },
     "metadata": {
      "needs_background": "light"
     },
     "output_type": "display_data"
    }
   ],
   "source": [
    "model_pred_postfit = cabinetry.model_utils.prediction(model, fit_results=fit_results)\n",
    "_ = cabinetry.visualize.data_mc(model_pred_postfit, data, config=config)"
   ]
  },
  {
   "cell_type": "markdown",
   "metadata": {},
   "source": [
    "# 4. Asimov and Toys"
   ]
  },
  {
   "cell_type": "code",
   "execution_count": null,
   "metadata": {},
   "outputs": [],
   "source": [
    "asimov_data = cabinetry.model_utils.asimov_data(model)\n",
    "_ = cabinetry.fit.fit(model, asimov_data)"
   ]
  },
  {
   "cell_type": "code",
   "execution_count": 14,
   "metadata": {},
   "outputs": [
    {
     "name": "stdout",
     "output_type": "stream",
     "text": [
      "init parameters: [('qqbar_norm', 0.5), ('signal_norm', 0.5), ('staterror_signal_region', 1.0)]\n",
      "(10, 100)\n"
     ]
    }
   ],
   "source": [
    "# init the norm parameters\n",
    "pars_toy = model.config.suggested_init()\n",
    "pars_toy[:2] = [0.5, 0.5]\n",
    "print(f\"init parameters: {list(zip(model.config.parameters, pars_toy))}\")\n",
    "\n",
    "# make the pdfs\n",
    "pdf_toy = model.make_pdf(pyhf.tensorlib.astensor(pars_toy))\n",
    "\n",
    "# note: pdf.sample takes in a \"shape\" N=(10000,) given the number of samples\n",
    "n_samples = 10\n",
    "mc_toy = pdf_toy.sample((n_samples,))\n",
    "\n",
    "print(mc_toy.shape)"
   ]
  },
  {
   "cell_type": "code",
   "execution_count": 15,
   "metadata": {},
   "outputs": [
    {
     "name": "stderr",
     "output_type": "stream",
     "text": [
      "WARNING - pyhf.infer.test_statistics - qmu_tilde test statistic used for fit configuration with POI not bounded at zero.\n",
      "Use the qmu test statistic (pyhf.infer.test_statistics.qmu) instead.\n",
      "WARNING - pyhf.infer.test_statistics - qmu_tilde test statistic used for fit configuration with POI not bounded at zero.\n",
      "Use the qmu test statistic (pyhf.infer.test_statistics.qmu) instead.\n",
      "WARNING - pyhf.infer.test_statistics - qmu_tilde test statistic used for fit configuration with POI not bounded at zero.\n",
      "Use the qmu test statistic (pyhf.infer.test_statistics.qmu) instead.\n",
      "WARNING - pyhf.infer.test_statistics - qmu_tilde test statistic used for fit configuration with POI not bounded at zero.\n",
      "Use the qmu test statistic (pyhf.infer.test_statistics.qmu) instead.\n",
      "WARNING - pyhf.infer.test_statistics - qmu_tilde test statistic used for fit configuration with POI not bounded at zero.\n",
      "Use the qmu test statistic (pyhf.infer.test_statistics.qmu) instead.\n",
      "WARNING - pyhf.infer.test_statistics - qmu_tilde test statistic used for fit configuration with POI not bounded at zero.\n",
      "Use the qmu test statistic (pyhf.infer.test_statistics.qmu) instead.\n",
      "WARNING - pyhf.infer.test_statistics - qmu_tilde test statistic used for fit configuration with POI not bounded at zero.\n",
      "Use the qmu test statistic (pyhf.infer.test_statistics.qmu) instead.\n",
      "WARNING - pyhf.infer.test_statistics - qmu_tilde test statistic used for fit configuration with POI not bounded at zero.\n",
      "Use the qmu test statistic (pyhf.infer.test_statistics.qmu) instead.\n",
      "WARNING - pyhf.infer.test_statistics - qmu_tilde test statistic used for fit configuration with POI not bounded at zero.\n",
      "Use the qmu test statistic (pyhf.infer.test_statistics.qmu) instead.\n",
      "WARNING - pyhf.infer.test_statistics - qmu_tilde test statistic used for fit configuration with POI not bounded at zero.\n",
      "Use the qmu test statistic (pyhf.infer.test_statistics.qmu) instead.\n"
     ]
    }
   ],
   "source": [
    "init_pars = model.config.suggested_init()\n",
    "par_bounds = model.config.suggested_bounds()\n",
    "fixed_params = model.config.suggested_fixed()\n",
    "\n",
    "qtilde_sig = pyhf.tensorlib.astensor(\n",
    "    [\n",
    "        pyhf.infer.test_statistics.qmu_tilde(\n",
    "            1.0, mc, model, init_pars, par_bounds, fixed_params\n",
    "        )\n",
    "        for mc in mc_toy\n",
    "    ]\n",
    ")"
   ]
  },
  {
   "cell_type": "code",
   "execution_count": 65,
   "metadata": {},
   "outputs": [
    {
     "name": "stderr",
     "output_type": "stream",
     "text": [
      "INFO - cabinetry.fit - performing maximum likelihood fit\n",
      "INFO - cabinetry.fit - Migrad status:\n",
      "┌─────────────────────────────────────────────────────────────────────────┐\n",
      "│                                Migrad                                   │\n",
      "├──────────────────────────────────┬──────────────────────────────────────┤\n",
      "│ FCN = 248                        │             Nfcn = 4108              │\n",
      "│ EDM = 0.000116 (Goal: 0.0002)    │                                      │\n",
      "├──────────────────────────────────┼──────────────────────────────────────┤\n",
      "│          Valid Minimum           │        No Parameters at limit        │\n",
      "├──────────────────────────────────┼──────────────────────────────────────┤\n",
      "│ Below EDM threshold (goal x 10)  │           Below call limit           │\n",
      "├───────────────┬──────────────────┼───────────┬─────────────┬────────────┤\n",
      "│  Covariance   │     Hesse ok     │ Accurate  │  Pos. def.  │ Not forced │\n",
      "└───────────────┴──────────────────┴───────────┴─────────────┴────────────┘\n",
      "DEBUG - cabinetry.fit - -2 log(L) = 247.975743 at best-fit point\n",
      "INFO - cabinetry.fit - fit results (with symmetric uncertainties):\n",
      "INFO - cabinetry.fit - qqbar_norm                  =  0.8039 +/- 0.0170\n",
      "INFO - cabinetry.fit - signal_norm                 =  1.4997 +/- 0.0028\n",
      "INFO - cabinetry.fit - staterror_signal_region[0]  =  0.9995 +/- 0.0208\n",
      "INFO - cabinetry.fit - staterror_signal_region[1]  =  0.9972 +/- 0.0203\n",
      "INFO - cabinetry.fit - staterror_signal_region[2]  =  1.0122 +/- 0.0200\n",
      "INFO - cabinetry.fit - staterror_signal_region[3]  =  0.9966 +/- 0.0188\n",
      "INFO - cabinetry.fit - staterror_signal_region[4]  =  1.0126 +/- 0.0180\n",
      "INFO - cabinetry.fit - staterror_signal_region[5]  =  0.9706 +/- 0.0171\n",
      "INFO - cabinetry.fit - staterror_signal_region[6]  =  1.0323 +/- 0.0165\n",
      "INFO - cabinetry.fit - staterror_signal_region[7]  =  0.9943 +/- 0.0154\n",
      "INFO - cabinetry.fit - staterror_signal_region[8]  =  1.0059 +/- 0.0144\n",
      "INFO - cabinetry.fit - staterror_signal_region[9]  =  1.0118 +/- 0.0135\n",
      "INFO - cabinetry.fit - staterror_signal_region[10] =  1.0045 +/- 0.0124\n",
      "INFO - cabinetry.fit - staterror_signal_region[11] =  1.0018 +/- 0.0112\n",
      "INFO - cabinetry.fit - staterror_signal_region[12] =  1.0160 +/- 0.0105\n",
      "INFO - cabinetry.fit - staterror_signal_region[13] =  0.9872 +/- 0.0092\n",
      "INFO - cabinetry.fit - staterror_signal_region[14] =  1.0051 +/- 0.0083\n",
      "INFO - cabinetry.fit - staterror_signal_region[15] =  1.0008 +/- 0.0074\n",
      "INFO - cabinetry.fit - staterror_signal_region[16] =  1.0023 +/- 0.0065\n",
      "INFO - cabinetry.fit - staterror_signal_region[17] =  1.0049 +/- 0.0057\n",
      "INFO - cabinetry.fit - staterror_signal_region[18] =  0.9962 +/- 0.0049\n",
      "INFO - cabinetry.fit - staterror_signal_region[19] =  0.9943 +/- 0.0043\n",
      "INFO - cabinetry.fit - staterror_signal_region[20] =  1.0028 +/- 0.0037\n",
      "INFO - cabinetry.fit - staterror_signal_region[21] =  0.9985 +/- 0.0033\n",
      "INFO - cabinetry.fit - staterror_signal_region[22] =  1.0000 +/- 0.0030\n",
      "INFO - cabinetry.fit - staterror_signal_region[23] =  0.9971 +/- 0.0028\n",
      "INFO - cabinetry.fit - staterror_signal_region[24] =  0.9981 +/- 0.0027\n",
      "INFO - cabinetry.fit - staterror_signal_region[25] =  1.0006 +/- 0.0029\n",
      "INFO - cabinetry.fit - staterror_signal_region[26] =  0.9965 +/- 0.0033\n",
      "INFO - cabinetry.fit - staterror_signal_region[27] =  0.9922 +/- 0.0041\n",
      "INFO - cabinetry.fit - staterror_signal_region[28] =  1.0029 +/- 0.0055\n",
      "INFO - cabinetry.fit - staterror_signal_region[29] =  1.0140 +/- 0.0076\n",
      "INFO - cabinetry.fit - staterror_signal_region[30] =  0.9985 +/- 0.0103\n",
      "INFO - cabinetry.fit - staterror_signal_region[31] =  1.0048 +/- 0.0130\n",
      "INFO - cabinetry.fit - staterror_signal_region[32] =  0.9792 +/- 0.0160\n",
      "INFO - cabinetry.fit - staterror_signal_region[33] =  0.9956 +/- 0.0193\n",
      "INFO - cabinetry.fit - staterror_signal_region[34] =  1.0053 +/- 0.0224\n",
      "INFO - cabinetry.fit - staterror_signal_region[35] =  1.0119 +/- 0.0251\n",
      "INFO - cabinetry.fit - staterror_signal_region[36] =  0.9741 +/- 0.0275\n",
      "INFO - cabinetry.fit - staterror_signal_region[37] =  1.0155 +/- 0.0300\n",
      "INFO - cabinetry.fit - staterror_signal_region[38] =  0.9836 +/- 0.0314\n",
      "INFO - cabinetry.fit - staterror_signal_region[39] =  1.0104 +/- 0.0339\n",
      "INFO - cabinetry.fit - staterror_signal_region[40] =  0.9926 +/- 0.0359\n",
      "INFO - cabinetry.fit - staterror_signal_region[41] =  1.0195 +/- 0.0377\n",
      "INFO - cabinetry.fit - staterror_signal_region[42] =  1.0332 +/- 0.0399\n",
      "INFO - cabinetry.fit - staterror_signal_region[43] =  0.9623 +/- 0.0396\n",
      "INFO - cabinetry.fit - staterror_signal_region[44] =  1.0067 +/- 0.0393\n",
      "INFO - cabinetry.fit - staterror_signal_region[45] =  0.9616 +/- 0.0415\n",
      "INFO - cabinetry.fit - staterror_signal_region[46] =  0.9390 +/- 0.0404\n",
      "INFO - cabinetry.fit - staterror_signal_region[47] =  0.9165 +/- 0.0443\n",
      "INFO - cabinetry.fit - staterror_signal_region[48] =  0.9605 +/- 0.0446\n",
      "INFO - cabinetry.fit - staterror_signal_region[49] =  0.9863 +/- 0.0432\n"
     ]
    }
   ],
   "source": [
    "init=[0.5, 0.5] + [1]*50\n",
    "toys = model.make_pdf(pyhf.tensorlib.astensor(np.asarray(init))).sample((1,))\n",
    "_ = cabinetry.fit.fit(model=model, data=toys[0])"
   ]
  },
  {
   "cell_type": "code",
   "execution_count": null,
   "metadata": {},
   "outputs": [],
   "source": []
  }
 ],
 "metadata": {
  "kernelspec": {
   "display_name": "Python 3 (Belle2)",
   "language": "python",
   "name": "python3"
  },
  "language_info": {
   "codemirror_mode": {
    "name": "ipython",
    "version": 3
   },
   "file_extension": ".py",
   "mimetype": "text/x-python",
   "name": "python",
   "nbconvert_exporter": "python",
   "pygments_lexer": "ipython3",
   "version": "3.8.8"
  }
 },
 "nbformat": 4,
 "nbformat_minor": 4
}
