{
 "cells": [
  {
   "cell_type": "markdown",
   "metadata": {},
   "source": [
    "# 1. Define binning and workspace"
   ]
  },
  {
   "cell_type": "code",
   "execution_count": 1,
   "metadata": {},
   "outputs": [],
   "source": [
    "import glob\n",
    "import numpy as np\n",
    "import pandas\n",
    "import matplotlib.pyplot as plt\n",
    "import matplotlib.colors as colors\n",
    "import matplotlib.cm as cm\n",
    "from tqdm import tqdm\n",
    "import pyhf\n",
    "import json\n",
    "import yaml\n",
    "plt.rcParams[\"axes.prop_cycle\"] = plt.cycler(\"color\", plt.cm.tab20.colors)"
   ]
  },
  {
   "cell_type": "code",
   "execution_count": 2,
   "metadata": {},
   "outputs": [],
   "source": [
    "import uproot\n",
    "with uproot.open('sig_template.root:B') as tree:\n",
    "    temp = tree.arrays(['B_deltaE','__weight__'], library=\"np\")\n",
    "with uproot.open('sig_test.root:B') as tree:\n",
    "    test = tree.arrays(['B_deltaE'], library=\"np\")"
   ]
  },
  {
   "cell_type": "code",
   "execution_count": 3,
   "metadata": {},
   "outputs": [],
   "source": [
    "# Define the range and number of bins\n",
    "start = -2.691488\n",
    "end = 1.850396\n",
    "num_bins = 50\n",
    "\n",
    "# Create the bin edges\n",
    "bins = np.linspace(start, end, num_bins + 1)\n",
    "\n",
    "# Check for empty bins\n",
    "empty_bins = [41, 42, 43, 44, 46, 47, 48, 49]\n",
    "\n",
    "# Merge adjacent empty bins\n",
    "merged_bins = np.delete(bins, empty_bins)"
   ]
  },
  {
   "cell_type": "code",
   "execution_count": 4,
   "metadata": {},
   "outputs": [],
   "source": [
    "template, edges = np.histogram(temp['B_deltaE'], bins=merged_bins,weights=temp['__weight__'])\n",
    "data, edges = np.histogram(test['B_deltaE'], bins=merged_bins)"
   ]
  },
  {
   "cell_type": "code",
   "execution_count": 5,
   "metadata": {},
   "outputs": [],
   "source": [
    "staterr_squared, edges = np.histogram(temp['B_deltaE'], bins=merged_bins,weights=temp['__weight__']**2)\n",
    "staterr = np.sqrt(staterr_squared)"
   ]
  },
  {
   "cell_type": "code",
   "execution_count": 6,
   "metadata": {},
   "outputs": [],
   "source": [
    "spec = {\n",
    "    \"channels\": [\n",
    "        {\n",
    "            \"name\": \"All_region\",\n",
    "            \"samples\": [\n",
    "                {\n",
    "                    \"data\": list(template),\n",
    "                    \"modifiers\": [\n",
    "                        {\n",
    "                            \"data\": list(staterr),\n",
    "                            \"name\": \"staterror_All_region\",\n",
    "                            \"type\": \"staterror\"\n",
    "                        },\n",
    "                        {\n",
    "                            \"data\": None,\n",
    "                            \"name\": \"Signal_norm\",\n",
    "                            \"type\": \"normfactor\"\n",
    "                        }\n",
    "                    ],\n",
    "                    \"name\": \"Signal\"\n",
    "                }\n",
    "            ]\n",
    "        }\n",
    "    ],\n",
    "    \"measurements\": [\n",
    "        {\n",
    "            \"config\": {\n",
    "                \"parameters\": [\n",
    "                    {\n",
    "                        \"bounds\": [\n",
    "                            [\n",
    "                                -5,\n",
    "                                10\n",
    "                            ]\n",
    "                        ],\n",
    "                        \"inits\": [\n",
    "                            1\n",
    "                        ],\n",
    "                        \"name\": \"Signal_norm\"\n",
    "                    }\n",
    "                ],\n",
    "                \"poi\": \"Signal_norm\"\n",
    "            },\n",
    "            \"name\": \"B2Kpi0\"\n",
    "        }\n",
    "    ],\n",
    "    \"observations\": [\n",
    "        {\n",
    "            \"data\": list(data),\n",
    "            \"name\": \"All_region\"\n",
    "        }\n",
    "    ],\n",
    "    \"version\": \"1.0.0\"\n",
    "}\n",
    "\n",
    "# info: the `poi_name=None` is nescessary here since we don't want to do a hypothesis test\n",
    "workspace = pyhf.workspace.Workspace(spec)"
   ]
  },
  {
   "cell_type": "code",
   "execution_count": 37,
   "metadata": {},
   "outputs": [
    {
     "data": {
      "text/plain": [
       "2.0"
      ]
     },
     "execution_count": 37,
     "metadata": {},
     "output_type": "execute_result"
    }
   ],
   "source": [
    "list(template)[0]"
   ]
  },
  {
   "cell_type": "code",
   "execution_count": 36,
   "metadata": {},
   "outputs": [
    {
     "data": {
      "text/plain": [
       "1.4142135623730951"
      ]
     },
     "execution_count": 36,
     "metadata": {},
     "output_type": "execute_result"
    }
   ],
   "source": [
    "list(staterr)[0]"
   ]
  },
  {
   "cell_type": "code",
   "execution_count": 7,
   "metadata": {},
   "outputs": [],
   "source": [
    "pyhf.set_backend('numpy','scipy')"
   ]
  },
  {
   "cell_type": "code",
   "execution_count": 8,
   "metadata": {
    "scrolled": false
   },
   "outputs": [],
   "source": [
    "d = pyhf.tensorlib.astensor(list(data) + workspace.model().config.auxdata)\n",
    "parameters, correlations = pyhf.infer.mle.fit(data=d, pdf=workspace.model(), return_uncertainties=True, return_correlations=True)"
   ]
  },
  {
   "cell_type": "code",
   "execution_count": 9,
   "metadata": {},
   "outputs": [
    {
     "data": {
      "text/plain": [
       "array([0.42867368, 1.04831584, 0.86147452, 0.89173479, 1.17778031,\n",
       "       0.74019667, 0.94803765, 1.04833716, 1.32568368, 1.43964893,\n",
       "       0.97964174, 1.15068084, 0.84455709, 1.15068099, 0.85108749,\n",
       "       1.09376828, 0.99155114, 1.13681395, 1.11377617, 1.04271474,\n",
       "       0.91344153, 0.90406123, 0.97652235, 0.94780726, 1.03263373,\n",
       "       1.07411   , 0.99481211, 1.00681399, 1.0040135 , 0.99975907,\n",
       "       0.99683727, 1.01062089, 0.98656762, 1.02725489, 1.01560952,\n",
       "       0.96344011, 1.03083851, 0.89172371, 0.95293252, 1.19759838,\n",
       "       1.1111918 , 1.58241697, 0.81637191])"
      ]
     },
     "execution_count": 9,
     "metadata": {},
     "output_type": "execute_result"
    }
   ],
   "source": [
    "parameters"
   ]
  },
  {
   "cell_type": "code",
   "execution_count": 12,
   "metadata": {},
   "outputs": [],
   "source": [
    "pyhf.set_backend(\"numpy\", pyhf.optimize.minuit_optimizer(verbose=True, errordef=0.5, strategy=2, tolerance=0.1))\n",
    "parameters, correlations = pyhf.infer.mle.fit(data=d, pdf=workspace.model(), init_pars=list(parameters),return_uncertainties=True, return_correlations=True)"
   ]
  },
  {
   "cell_type": "code",
   "execution_count": 13,
   "metadata": {},
   "outputs": [
    {
     "data": {
      "text/plain": [
       "array([[0.42867374, 0.0022126 ],\n",
       "       [1.04829241, 0.41325979],\n",
       "       [0.8615133 , 0.3051805 ],\n",
       "       [0.89173054, 0.22899174],\n",
       "       [1.17778931, 0.21698215],\n",
       "       [0.74019962, 0.22531372],\n",
       "       [0.94804238, 0.15979776],\n",
       "       [1.04829241, 0.23908099],\n",
       "       [1.32566477, 0.23028535],\n",
       "       [1.43961435, 0.27894362],\n",
       "       [0.97963966, 0.2653225 ],\n",
       "       [1.15068919, 0.33234276],\n",
       "       [0.84456621, 0.17037183],\n",
       "       [1.15068919, 0.33234586],\n",
       "       [0.85108214, 0.13382175],\n",
       "       [1.09376708, 0.126917  ],\n",
       "       [0.99154562, 0.1209396 ],\n",
       "       [1.13681562, 0.10919214],\n",
       "       [1.1137755 , 0.08369715],\n",
       "       [1.04271587, 0.07640293],\n",
       "       [0.9134397 , 0.06744443],\n",
       "       [0.90406141, 0.0545314 ],\n",
       "       [0.97652265, 0.05044658],\n",
       "       [0.94780482, 0.03973559],\n",
       "       [1.03263506, 0.03548369],\n",
       "       [1.07411046, 0.02795719],\n",
       "       [0.99481246, 0.0229806 ],\n",
       "       [1.00681414, 0.01682586],\n",
       "       [1.00401343, 0.01045301],\n",
       "       [0.99975885, 0.00530865],\n",
       "       [0.99683723, 0.00351237],\n",
       "       [1.01062063, 0.00765939],\n",
       "       [0.98656775, 0.02723333],\n",
       "       [1.02725456, 0.04683528],\n",
       "       [1.01561034, 0.06514277],\n",
       "       [0.96343979, 0.08886686],\n",
       "       [1.03083937, 0.13487287],\n",
       "       [0.89173054, 0.16201269],\n",
       "       [0.95292603, 0.18005194],\n",
       "       [1.19758605, 0.28612394],\n",
       "       [1.1112559 , 0.2591326 ],\n",
       "       [1.58242965, 0.2468266 ],\n",
       "       [0.81632632, 0.27687139]])"
      ]
     },
     "execution_count": 13,
     "metadata": {},
     "output_type": "execute_result"
    }
   ],
   "source": [
    "parameters"
   ]
  },
  {
   "cell_type": "code",
   "execution_count": 14,
   "metadata": {},
   "outputs": [
    {
     "data": {
      "text/plain": [
       "array([[ 1.00000000e+00, -3.66433915e-03, -5.40685249e-03, ...,\n",
       "        -5.74472335e-03, -5.46421359e-03, -6.12740293e-03],\n",
       "       [-3.66433915e-03,  1.00000000e+00, -2.69202620e-05, ...,\n",
       "         2.10480444e-05,  2.00230602e-05, -7.36471713e-06],\n",
       "       [-5.40685249e-03, -2.69202620e-05,  1.00000000e+00, ...,\n",
       "         4.02596254e-05,  2.07562327e-05,  1.97512539e-05],\n",
       "       ...,\n",
       "       [-5.74472335e-03,  2.10480444e-05,  4.02596254e-05, ...,\n",
       "         1.00000000e+00,  3.13911326e-05,  3.51977734e-05],\n",
       "       [-5.46421359e-03,  2.00230602e-05,  2.07562327e-05, ...,\n",
       "         3.13911326e-05,  1.00000000e+00,  3.34810673e-05],\n",
       "       [-6.12740293e-03, -7.36471713e-06,  1.97512539e-05, ...,\n",
       "         3.51977734e-05,  3.34810673e-05,  1.00000000e+00]])"
      ]
     },
     "execution_count": 14,
     "metadata": {},
     "output_type": "execute_result"
    }
   ],
   "source": [
    "correlations"
   ]
  }
 ],
 "metadata": {
  "kernelspec": {
   "display_name": "Python 3 (Belle2)",
   "language": "python",
   "name": "python3"
  },
  "language_info": {
   "codemirror_mode": {
    "name": "ipython",
    "version": 3
   },
   "file_extension": ".py",
   "mimetype": "text/x-python",
   "name": "python",
   "nbconvert_exporter": "python",
   "pygments_lexer": "ipython3",
   "version": "3.8.8"
  }
 },
 "nbformat": 4,
 "nbformat_minor": 4
}
