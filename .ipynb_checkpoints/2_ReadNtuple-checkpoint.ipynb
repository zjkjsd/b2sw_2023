{
 "cells": [
  {
   "cell_type": "markdown",
   "metadata": {},
   "source": [
    "# 1. Load Ntuple"
   ]
  },
  {
   "cell_type": "code",
   "execution_count": 36,
   "metadata": {},
   "outputs": [
    {
     "name": "stdout",
     "output_type": "stream",
     "text": [
      "The autoreload extension is already loaded. To reload it, use:\n",
      "  %reload_ext autoreload\n"
     ]
    }
   ],
   "source": [
    "%load_ext autoreload\n",
    "%autoreload 2\n",
    "\n",
    "import glob\n",
    "import numpy as np\n",
    "import pandas as pd\n",
    "import matplotlib.pyplot as plt\n",
    "from tqdm.notebook import tqdm\n",
    "from sklearn.model_selection import train_test_split"
   ]
  },
  {
   "cell_type": "code",
   "execution_count": 7,
   "metadata": {},
   "outputs": [
    {
     "name": "stdout",
     "output_type": "stream",
     "text": [
      "[2.61794307 2.32129015 2.00710849 1.67548746 1.34385329 1.04719755\n",
      " 0.69820084 0.48879356 0.29672224]\n"
     ]
    }
   ],
   "source": [
    "cos = [-0.866, -0.682, -0.4226, -0.1045, 0.225, 0.5, 0.766, 0.8829, 0.9563]\n",
    "print(f'{np.arccos(cos)}')"
   ]
  },
  {
   "cell_type": "code",
   "execution_count": 22,
   "metadata": {},
   "outputs": [],
   "source": [
    "import uproot\n",
    "with uproot.open('Ntuples/test_sig2.root:Bsig') as tree:\n",
    "    all_columns = tree.keys()\n",
    "    #columns_to_read = [column for column in all_columns if column != \"__MCDecayString__\"]\n",
    "    arr = tree.arrays(all_columns, library=\"np\")\n",
    "    test_sig = pd.DataFrame(arr)\n",
    "    \n",
    "columns_with_nan = ['B_isSignal','B_mcPDG','K_isSignal','K_mcPDG','pi_isSignal','pi_mcPDG','g1_isSignal','g2_isSignal']\n",
    "test_sig[columns_with_nan] = test_sig[columns_with_nan].fillna(-1)\n",
    "\n",
    "with uproot.open('Ntuples/test_misID1.root:Bsig') as tree:\n",
    "    all_columns = tree.keys()\n",
    "    #columns_to_read = [column for column in all_columns if column != \"__MCDecayString__\"]\n",
    "    arr = tree.arrays(all_columns, library=\"np\")\n",
    "    test_misID = pd.DataFrame(arr)\n",
    "    \n",
    "test_misID[columns_with_nan] = test_misID[columns_with_nan].fillna(-1)\n",
    "\n",
    "with uproot.open('Ntuples/test_charged1.root:Bsig') as tree:\n",
    "    all_columns = tree.keys()\n",
    "    #columns_to_read = [column for column in all_columns if column != \"__MCDecayString__\"]\n",
    "    arr = tree.arrays(all_columns, library=\"np\")\n",
    "    test_charged = pd.DataFrame(arr)\n",
    "    \n",
    "with uproot.open('Ntuples/test_ccbar1.root:Bsig') as tree:\n",
    "    all_columns = tree.keys()\n",
    "    arr = tree.arrays(all_columns, library=\"np\")\n",
    "    test_ccbar = pd.DataFrame(arr)\n",
    "    \n",
    "test_charged[columns_with_nan] = test_charged[columns_with_nan].fillna(-1)"
   ]
  },
  {
   "cell_type": "code",
   "execution_count": 39,
   "metadata": {},
   "outputs": [],
   "source": [
    "with uproot.open('Ntuples/MC15ri_b_Kpi0_signal_8/00.root:Bsig') as tree:\n",
    "    all_columns = tree.keys()\n",
    "    arr = tree.arrays(all_columns, library=\"np\")\n",
    "    df_signal = pd.DataFrame(arr)\n",
    "    \n",
    "with uproot.open('Ntuples/MC15ri_b_Kpi0_misID/misID.root:Bsig') as tree:\n",
    "    all_columns = tree.keys()\n",
    "    arr = tree.arrays(all_columns, library=\"np\")\n",
    "    df_misID = pd.DataFrame(arr)"
   ]
  },
  {
   "cell_type": "code",
   "execution_count": 37,
   "metadata": {},
   "outputs": [],
   "source": [
    "import uproot\n",
    "with uproot.open('Ntuples/MC15ri_b_Kpi0_generic_200fb_9/ccbar.root:Bsig') as tree:\n",
    "    all_columns = tree.keys()\n",
    "    #columns_to_read = [column for column in all_columns if column != \"__MCDecayString__\"]\n",
    "    arr = tree.arrays(all_columns, library=\"np\")\n",
    "    df_ccbar9 = pd.DataFrame(arr)\n",
    "    \n",
    "with uproot.open('Ntuples/MC15ri_b_Kpi0_generic_200fb_9/ssbar.root:Bsig') as tree:\n",
    "    all_columns = tree.keys()\n",
    "    arr = tree.arrays(all_columns, library=\"np\")\n",
    "    df_ssbar9 = pd.DataFrame(arr)\n",
    "    \n",
    "with uproot.open('Ntuples/MC15ri_b_Kpi0_generic_200fb_8/ssbar.root:Bsig') as tree:\n",
    "    all_columns = tree.keys()\n",
    "    arr = tree.arrays(all_columns, library=\"np\")\n",
    "    df_ssbar8 = pd.DataFrame(arr)\n",
    "    \n",
    "with uproot.open('Ntuples/MC15ri_b_Kpi0_generic_200fb_8/ccbar.root:Bsig') as tree:\n",
    "    all_columns = tree.keys()\n",
    "    arr = tree.arrays(all_columns, library=\"np\")\n",
    "    df_ccbar8 = pd.DataFrame(arr)\n",
    "    \n",
    "with uproot.open('Ntuples/MC15ri_b_Kpi0_generic_200fb_9/mixed.root:Bsig') as tree:\n",
    "    all_columns = tree.keys()\n",
    "    arr = tree.arrays(all_columns, library=\"np\")\n",
    "    df_mixed9 = pd.DataFrame(arr)\n",
    "    \n",
    "with uproot.open('Ntuples/MC15ri_b_Kpi0_generic_200fb_9/charged.root:Bsig') as tree:\n",
    "    all_columns = tree.keys()\n",
    "    arr = tree.arrays(all_columns, library=\"np\")\n",
    "    df_charged9 = pd.DataFrame(arr)\n",
    "    \n",
    "with uproot.open('Ntuples/MC15ri_b_Kpi0_generic_200fb_8/mixed.root:Bsig') as tree:\n",
    "    all_columns = tree.keys()\n",
    "    arr = tree.arrays(all_columns, library=\"np\")\n",
    "    df_mixed8 = pd.DataFrame(arr)\n",
    "    \n",
    "with uproot.open('Ntuples/MC15ri_b_Kpi0_generic_200fb_8/charged.root:Bsig') as tree:\n",
    "    all_columns = tree.keys()\n",
    "    arr = tree.arrays(all_columns, library=\"np\")\n",
    "    df_charged8 = pd.DataFrame(arr)\n",
    "    \n",
    "# df_ssbar[['B_isSignal','B_mcPDG','K_isSignal','K_mcPDG','pi_isSignal','pi_mcPDG']] = df_ssbar[['B_isSignal','B_mcPDG','K_isSignal','K_mcPDG','pi_isSignal','pi_mcPDG']].fillna(-1)\n",
    "# df_ccbar[['B_isSignal','B_mcPDG','K_isSignal','K_mcPDG','pi_isSignal','pi_mcPDG']] = df_ccbar[['B_isSignal','B_mcPDG','K_isSignal','K_mcPDG','pi_isSignal','pi_mcPDG']].fillna(-1)"
   ]
  },
  {
   "cell_type": "code",
   "execution_count": 17,
   "metadata": {},
   "outputs": [
    {
     "data": {
      "text/plain": [
       "count    2298.000000\n",
       "mean        0.724920\n",
       "std         0.222771\n",
       "min         0.000150\n",
       "25%         0.619776\n",
       "50%         0.783753\n",
       "75%         0.893548\n",
       "max         0.999972\n",
       "Name: B_cosTBTO, dtype: float64"
      ]
     },
     "execution_count": 17,
     "metadata": {},
     "output_type": "execute_result"
    }
   ],
   "source": [
    "df_ccbar8.query('B_R2<0.45').B_cosTBTO.describe()"
   ]
  },
  {
   "cell_type": "code",
   "execution_count": 18,
   "metadata": {
    "scrolled": true
   },
   "outputs": [
    {
     "data": {
      "text/plain": [
       "count    39764.000000\n",
       "mean         0.419794\n",
       "std          0.254465\n",
       "min          0.000003\n",
       "25%          0.204412\n",
       "50%          0.407981\n",
       "75%          0.614370\n",
       "max          0.999944\n",
       "Name: B_cosTBTO, dtype: float64"
      ]
     },
     "execution_count": 18,
     "metadata": {},
     "output_type": "execute_result"
    }
   ],
   "source": [
    "df_signal.query('B_R2<0.45').B_cosTBTO.describe()"
   ]
  },
  {
   "cell_type": "code",
   "execution_count": 40,
   "metadata": {},
   "outputs": [
    {
     "name": "stdout",
     "output_type": "stream",
     "text": [
      "signal_norm = 0.015621568196793324\n",
      "misID_norm = 0.0006453694740238787\n",
      "qqbar_norm = 1.0072951739618405\n",
      "BBbar_norm = 1.0610932475884245\n"
     ]
    }
   ],
   "source": [
    "print(f\"\"\"signal_norm = {len(df_charged8.query('B_isSignal==1 and B_R2<0.45 and B_cosTBTO<0.8'))/len(df_signal.query('B_R2<0.45 and B_cosTBTO<0.8'))}\n",
    "misID_norm = {len(df_charged8.query('B_mcErrors==128 and B_R2<0.45 and B_cosTBTO<0.8'))/len(df_misID.query('B_mcErrors==128 and B_R2<0.45 and B_cosTBTO<0.8'))}\n",
    "qqbar_norm = {(len(df_ssbar8.query('B_R2<0.45 and B_cosTBTO<0.8'))+len(df_ccbar8.query('B_R2<0.45 and B_cosTBTO<0.8')))/(len(df_ssbar9.query('B_R2<0.45 and B_cosTBTO<0.8'))+len(df_ccbar9.query('B_R2<0.45 and B_cosTBTO<0.8')))}\n",
    "BBbar_norm = {(len(df_mixed8.query('B_R2<0.45 and B_cosTBTO<0.8'))+len(df_charged8.query('B_mcErrors>0 and B_mcErrors!=128 and B_R2<0.45 and B_cosTBTO<0.8')))/(len(df_mixed9.query('B_R2<0.45 and B_cosTBTO<0.8'))+len(df_charged9.query('B_mcErrors>0 and B_mcErrors!=128 and B_R2<0.45 and B_cosTBTO<0.8')))}\"\"\")"
   ]
  },
  {
   "cell_type": "code",
   "execution_count": null,
   "metadata": {},
   "outputs": [],
   "source": []
  },
  {
   "cell_type": "code",
   "execution_count": 40,
   "metadata": {},
   "outputs": [
    {
     "data": {
      "text/plain": [
       "<matplotlib.legend.Legend at 0x7f7be65bb8e0>"
      ]
     },
     "execution_count": 40,
     "metadata": {},
     "output_type": "execute_result"
    },
    {
     "data": {
      "image/png": "[encoded data removed]",
      "text/plain": [
       "<Figure size 432x288 with 1 Axes>"
      ]
     },
     "metadata": {
      "needs_background": "light"
     },
     "output_type": "display_data"
    }
   ],
   "source": [
    "df_signal.B_deltaE.hist(bins=30,label='sig')\n",
    "df_misID.B_deltaE.hist(bins=50,label='misID')\n",
    "plt.legend()"
   ]
  },
  {
   "cell_type": "code",
   "execution_count": 12,
   "metadata": {},
   "outputs": [
    {
     "data": {
      "text/plain": [
       "492"
      ]
     },
     "execution_count": 12,
     "metadata": {},
     "output_type": "execute_result"
    }
   ],
   "source": [
    "(len(df_mixed8)+len(df_charged8.query('B_mcErrors>0 and B_mcErrors!=128')))"
   ]
  },
  {
   "cell_type": "code",
   "execution_count": 4,
   "metadata": {},
   "outputs": [
    {
     "data": {
      "text/html": [
       "<div>\n",
       "<style scoped>\n",
       "    .dataframe tbody tr th:only-of-type {\n",
       "        vertical-align: middle;\n",
       "    }\n",
       "\n",
       "    .dataframe tbody tr th {\n",
       "        vertical-align: top;\n",
       "    }\n",
       "\n",
       "    .dataframe thead th {\n",
       "        text-align: right;\n",
       "    }\n",
       "</style>\n",
       "<table border=\"1\" class=\"dataframe\">\n",
       "  <thead>\n",
       "    <tr style=\"text-align: right;\">\n",
       "      <th></th>\n",
       "      <th>__experiment__</th>\n",
       "      <th>__run__</th>\n",
       "      <th>__event__</th>\n",
       "      <th>__production__</th>\n",
       "      <th>__candidate__</th>\n",
       "      <th>__ncandidates__</th>\n",
       "      <th>__weight__</th>\n",
       "      <th>Ecms</th>\n",
       "      <th>B_Mbc</th>\n",
       "      <th>B_deltaE</th>\n",
       "      <th>...</th>\n",
       "      <th>g2_clusterNHits</th>\n",
       "      <th>g2_clusterTiming</th>\n",
       "      <th>g2_clusterE9E21</th>\n",
       "      <th>g2_clusterE</th>\n",
       "      <th>g2_clusterReg</th>\n",
       "      <th>g2_genMotherPDG</th>\n",
       "      <th>g2_mcPDG</th>\n",
       "      <th>g2_isSignal</th>\n",
       "      <th>g2_beamBackgroundSuppression</th>\n",
       "      <th>g2_fakePhotonSuppression</th>\n",
       "    </tr>\n",
       "  </thead>\n",
       "  <tbody>\n",
       "    <tr>\n",
       "      <th>0</th>\n",
       "      <td>1003</td>\n",
       "      <td>0</td>\n",
       "      <td>15915646</td>\n",
       "      <td>24797</td>\n",
       "      <td>0</td>\n",
       "      <td>1</td>\n",
       "      <td>1.0</td>\n",
       "      <td>10.579557</td>\n",
       "      <td>5.270717</td>\n",
       "      <td>-0.442237</td>\n",
       "      <td>...</td>\n",
       "      <td>12.304688</td>\n",
       "      <td>0.000000</td>\n",
       "      <td>0.985352</td>\n",
       "      <td>1.222275</td>\n",
       "      <td>2.0</td>\n",
       "      <td>111.0</td>\n",
       "      <td>22.0</td>\n",
       "      <td>1.0</td>\n",
       "      <td>0.998186</td>\n",
       "      <td>0.908309</td>\n",
       "    </tr>\n",
       "    <tr>\n",
       "      <th>1</th>\n",
       "      <td>1003</td>\n",
       "      <td>0</td>\n",
       "      <td>15916106</td>\n",
       "      <td>24797</td>\n",
       "      <td>0</td>\n",
       "      <td>1</td>\n",
       "      <td>1.0</td>\n",
       "      <td>10.579557</td>\n",
       "      <td>5.280062</td>\n",
       "      <td>-0.174867</td>\n",
       "      <td>...</td>\n",
       "      <td>14.843750</td>\n",
       "      <td>2.929688</td>\n",
       "      <td>0.970703</td>\n",
       "      <td>1.159419</td>\n",
       "      <td>2.0</td>\n",
       "      <td>111.0</td>\n",
       "      <td>22.0</td>\n",
       "      <td>1.0</td>\n",
       "      <td>0.998446</td>\n",
       "      <td>0.986526</td>\n",
       "    </tr>\n",
       "    <tr>\n",
       "      <th>2</th>\n",
       "      <td>1003</td>\n",
       "      <td>0</td>\n",
       "      <td>15920459</td>\n",
       "      <td>24797</td>\n",
       "      <td>0</td>\n",
       "      <td>1</td>\n",
       "      <td>1.0</td>\n",
       "      <td>10.579557</td>\n",
       "      <td>5.262477</td>\n",
       "      <td>-0.276470</td>\n",
       "      <td>...</td>\n",
       "      <td>9.570312</td>\n",
       "      <td>1.953125</td>\n",
       "      <td>0.983398</td>\n",
       "      <td>0.421403</td>\n",
       "      <td>2.0</td>\n",
       "      <td>111.0</td>\n",
       "      <td>22.0</td>\n",
       "      <td>1.0</td>\n",
       "      <td>0.998603</td>\n",
       "      <td>0.972229</td>\n",
       "    </tr>\n",
       "    <tr>\n",
       "      <th>3</th>\n",
       "      <td>1003</td>\n",
       "      <td>0</td>\n",
       "      <td>15923489</td>\n",
       "      <td>24797</td>\n",
       "      <td>0</td>\n",
       "      <td>1</td>\n",
       "      <td>1.0</td>\n",
       "      <td>10.579557</td>\n",
       "      <td>5.262691</td>\n",
       "      <td>0.009386</td>\n",
       "      <td>...</td>\n",
       "      <td>12.890625</td>\n",
       "      <td>-6.835938</td>\n",
       "      <td>0.968750</td>\n",
       "      <td>0.374392</td>\n",
       "      <td>2.0</td>\n",
       "      <td>111.0</td>\n",
       "      <td>22.0</td>\n",
       "      <td>1.0</td>\n",
       "      <td>0.998022</td>\n",
       "      <td>0.964164</td>\n",
       "    </tr>\n",
       "    <tr>\n",
       "      <th>4</th>\n",
       "      <td>1003</td>\n",
       "      <td>0</td>\n",
       "      <td>9625527</td>\n",
       "      <td>24797</td>\n",
       "      <td>0</td>\n",
       "      <td>1</td>\n",
       "      <td>1.0</td>\n",
       "      <td>10.579557</td>\n",
       "      <td>5.276740</td>\n",
       "      <td>-0.368120</td>\n",
       "      <td>...</td>\n",
       "      <td>12.304688</td>\n",
       "      <td>0.976562</td>\n",
       "      <td>0.986328</td>\n",
       "      <td>0.794016</td>\n",
       "      <td>2.0</td>\n",
       "      <td>111.0</td>\n",
       "      <td>22.0</td>\n",
       "      <td>1.0</td>\n",
       "      <td>0.998233</td>\n",
       "      <td>0.998770</td>\n",
       "    </tr>\n",
       "  </tbody>\n",
       "</table>\n",
       "<p>5 rows × 139 columns</p>\n",
       "</div>"
      ],
      "text/plain": [
       "   __experiment__  __run__  __event__  __production__  __candidate__  \\\n",
       "0            1003        0   15915646           24797              0   \n",
       "1            1003        0   15916106           24797              0   \n",
       "2            1003        0   15920459           24797              0   \n",
       "3            1003        0   15923489           24797              0   \n",
       "4            1003        0    9625527           24797              0   \n",
       "\n",
       "   __ncandidates__  __weight__       Ecms     B_Mbc  B_deltaE  ...  \\\n",
       "0                1         1.0  10.579557  5.270717 -0.442237  ...   \n",
       "1                1         1.0  10.579557  5.280062 -0.174867  ...   \n",
       "2                1         1.0  10.579557  5.262477 -0.276470  ...   \n",
       "3                1         1.0  10.579557  5.262691  0.009386  ...   \n",
       "4                1         1.0  10.579557  5.276740 -0.368120  ...   \n",
       "\n",
       "   g2_clusterNHits  g2_clusterTiming  g2_clusterE9E21  g2_clusterE  \\\n",
       "0        12.304688          0.000000         0.985352     1.222275   \n",
       "1        14.843750          2.929688         0.970703     1.159419   \n",
       "2         9.570312          1.953125         0.983398     0.421403   \n",
       "3        12.890625         -6.835938         0.968750     0.374392   \n",
       "4        12.304688          0.976562         0.986328     0.794016   \n",
       "\n",
       "   g2_clusterReg  g2_genMotherPDG  g2_mcPDG  g2_isSignal  \\\n",
       "0            2.0            111.0      22.0          1.0   \n",
       "1            2.0            111.0      22.0          1.0   \n",
       "2            2.0            111.0      22.0          1.0   \n",
       "3            2.0            111.0      22.0          1.0   \n",
       "4            2.0            111.0      22.0          1.0   \n",
       "\n",
       "   g2_beamBackgroundSuppression  g2_fakePhotonSuppression  \n",
       "0                      0.998186                  0.908309  \n",
       "1                      0.998446                  0.986526  \n",
       "2                      0.998603                  0.972229  \n",
       "3                      0.998022                  0.964164  \n",
       "4                      0.998233                  0.998770  \n",
       "\n",
       "[5 rows x 139 columns]"
      ]
     },
     "execution_count": 4,
     "metadata": {},
     "output_type": "execute_result"
    }
   ],
   "source": [
    "df_ssbar.head()"
   ]
  },
  {
   "cell_type": "code",
   "execution_count": null,
   "metadata": {},
   "outputs": [],
   "source": []
  },
  {
   "cell_type": "markdown",
   "metadata": {},
   "source": [
    "# 2. Missing values"
   ]
  },
  {
   "cell_type": "code",
   "execution_count": 9,
   "metadata": {
    "scrolled": true
   },
   "outputs": [
    {
     "data": {
      "text/plain": [
       "24207"
      ]
     },
     "execution_count": 9,
     "metadata": {},
     "output_type": "execute_result"
    }
   ],
   "source": [
    "# number of events\n",
    "df_test.__event__.nunique()"
   ]
  },
  {
   "cell_type": "code",
   "execution_count": 6,
   "metadata": {},
   "outputs": [
    {
     "data": {
      "text/plain": [
       "24207"
      ]
     },
     "execution_count": 6,
     "metadata": {},
     "output_type": "execute_result"
    }
   ],
   "source": [
    "# number of candidates\n",
    "len(df_test)"
   ]
  },
  {
   "cell_type": "code",
   "execution_count": 7,
   "metadata": {},
   "outputs": [
    {
     "data": {
      "text/html": [
       "<div>\n",
       "<style scoped>\n",
       "    .dataframe tbody tr th:only-of-type {\n",
       "        vertical-align: middle;\n",
       "    }\n",
       "\n",
       "    .dataframe tbody tr th {\n",
       "        vertical-align: top;\n",
       "    }\n",
       "\n",
       "    .dataframe thead th {\n",
       "        text-align: right;\n",
       "    }\n",
       "</style>\n",
       "<table border=\"1\" class=\"dataframe\">\n",
       "  <thead>\n",
       "    <tr style=\"text-align: right;\">\n",
       "      <th></th>\n",
       "      <th>__experiment__</th>\n",
       "      <th>__run__</th>\n",
       "      <th>__event__</th>\n",
       "      <th>__production__</th>\n",
       "      <th>__candidate__</th>\n",
       "      <th>__ncandidates__</th>\n",
       "      <th>__weight__</th>\n",
       "      <th>Ecms</th>\n",
       "      <th>B_Mbc</th>\n",
       "      <th>B_deltaE</th>\n",
       "      <th>...</th>\n",
       "      <th>g2_clusterNHits</th>\n",
       "      <th>g2_clusterTiming</th>\n",
       "      <th>g2_clusterE9E21</th>\n",
       "      <th>g2_clusterE</th>\n",
       "      <th>g2_clusterReg</th>\n",
       "      <th>g2_genMotherPDG</th>\n",
       "      <th>g2_mcPDG</th>\n",
       "      <th>g2_isSignal</th>\n",
       "      <th>g2_beamBackgroundSuppression</th>\n",
       "      <th>g2_fakePhotonSuppression</th>\n",
       "    </tr>\n",
       "  </thead>\n",
       "  <tbody>\n",
       "    <tr>\n",
       "      <th>0</th>\n",
       "      <td>1003</td>\n",
       "      <td>0</td>\n",
       "      <td>690280</td>\n",
       "      <td>26308</td>\n",
       "      <td>0</td>\n",
       "      <td>1</td>\n",
       "      <td>1.0</td>\n",
       "      <td>10.579557</td>\n",
       "      <td>5.272751</td>\n",
       "      <td>0.083583</td>\n",
       "      <td>...</td>\n",
       "      <td>13.867188</td>\n",
       "      <td>-0.976562</td>\n",
       "      <td>0.984375</td>\n",
       "      <td>1.646006</td>\n",
       "      <td>2.0</td>\n",
       "      <td>111.0</td>\n",
       "      <td>22.0</td>\n",
       "      <td>1.0</td>\n",
       "      <td>0.998653</td>\n",
       "      <td>0.999078</td>\n",
       "    </tr>\n",
       "    <tr>\n",
       "      <th>1</th>\n",
       "      <td>1003</td>\n",
       "      <td>0</td>\n",
       "      <td>690390</td>\n",
       "      <td>26308</td>\n",
       "      <td>0</td>\n",
       "      <td>1</td>\n",
       "      <td>1.0</td>\n",
       "      <td>10.579557</td>\n",
       "      <td>5.280171</td>\n",
       "      <td>0.054157</td>\n",
       "      <td>...</td>\n",
       "      <td>11.914062</td>\n",
       "      <td>-1.464844</td>\n",
       "      <td>0.991211</td>\n",
       "      <td>0.952955</td>\n",
       "      <td>2.0</td>\n",
       "      <td>111.0</td>\n",
       "      <td>22.0</td>\n",
       "      <td>1.0</td>\n",
       "      <td>0.997489</td>\n",
       "      <td>0.912098</td>\n",
       "    </tr>\n",
       "    <tr>\n",
       "      <th>2</th>\n",
       "      <td>1003</td>\n",
       "      <td>0</td>\n",
       "      <td>690546</td>\n",
       "      <td>26308</td>\n",
       "      <td>0</td>\n",
       "      <td>1</td>\n",
       "      <td>1.0</td>\n",
       "      <td>10.579557</td>\n",
       "      <td>5.286756</td>\n",
       "      <td>0.224343</td>\n",
       "      <td>...</td>\n",
       "      <td>13.476562</td>\n",
       "      <td>0.488281</td>\n",
       "      <td>0.976562</td>\n",
       "      <td>1.971515</td>\n",
       "      <td>2.0</td>\n",
       "      <td>111.0</td>\n",
       "      <td>22.0</td>\n",
       "      <td>1.0</td>\n",
       "      <td>0.998546</td>\n",
       "      <td>0.922378</td>\n",
       "    </tr>\n",
       "    <tr>\n",
       "      <th>3</th>\n",
       "      <td>1003</td>\n",
       "      <td>0</td>\n",
       "      <td>690643</td>\n",
       "      <td>26308</td>\n",
       "      <td>0</td>\n",
       "      <td>1</td>\n",
       "      <td>1.0</td>\n",
       "      <td>10.579557</td>\n",
       "      <td>5.276541</td>\n",
       "      <td>0.064775</td>\n",
       "      <td>...</td>\n",
       "      <td>15.625000</td>\n",
       "      <td>0.000000</td>\n",
       "      <td>0.985352</td>\n",
       "      <td>2.478123</td>\n",
       "      <td>2.0</td>\n",
       "      <td>111.0</td>\n",
       "      <td>22.0</td>\n",
       "      <td>1.0</td>\n",
       "      <td>0.999642</td>\n",
       "      <td>0.999356</td>\n",
       "    </tr>\n",
       "    <tr>\n",
       "      <th>4</th>\n",
       "      <td>1003</td>\n",
       "      <td>0</td>\n",
       "      <td>690695</td>\n",
       "      <td>26308</td>\n",
       "      <td>0</td>\n",
       "      <td>1</td>\n",
       "      <td>1.0</td>\n",
       "      <td>10.579557</td>\n",
       "      <td>5.279676</td>\n",
       "      <td>-0.000711</td>\n",
       "      <td>...</td>\n",
       "      <td>14.453125</td>\n",
       "      <td>0.000000</td>\n",
       "      <td>0.946289</td>\n",
       "      <td>1.179799</td>\n",
       "      <td>2.0</td>\n",
       "      <td>111.0</td>\n",
       "      <td>22.0</td>\n",
       "      <td>1.0</td>\n",
       "      <td>0.998713</td>\n",
       "      <td>0.931177</td>\n",
       "    </tr>\n",
       "  </tbody>\n",
       "</table>\n",
       "<p>5 rows × 139 columns</p>\n",
       "</div>"
      ],
      "text/plain": [
       "   __experiment__  __run__  __event__  __production__  __candidate__  \\\n",
       "0            1003        0     690280           26308              0   \n",
       "1            1003        0     690390           26308              0   \n",
       "2            1003        0     690546           26308              0   \n",
       "3            1003        0     690643           26308              0   \n",
       "4            1003        0     690695           26308              0   \n",
       "\n",
       "   __ncandidates__  __weight__       Ecms     B_Mbc  B_deltaE  ...  \\\n",
       "0                1         1.0  10.579557  5.272751  0.083583  ...   \n",
       "1                1         1.0  10.579557  5.280171  0.054157  ...   \n",
       "2                1         1.0  10.579557  5.286756  0.224343  ...   \n",
       "3                1         1.0  10.579557  5.276541  0.064775  ...   \n",
       "4                1         1.0  10.579557  5.279676 -0.000711  ...   \n",
       "\n",
       "   g2_clusterNHits  g2_clusterTiming  g2_clusterE9E21  g2_clusterE  \\\n",
       "0        13.867188         -0.976562         0.984375     1.646006   \n",
       "1        11.914062         -1.464844         0.991211     0.952955   \n",
       "2        13.476562          0.488281         0.976562     1.971515   \n",
       "3        15.625000          0.000000         0.985352     2.478123   \n",
       "4        14.453125          0.000000         0.946289     1.179799   \n",
       "\n",
       "   g2_clusterReg  g2_genMotherPDG  g2_mcPDG  g2_isSignal  \\\n",
       "0            2.0            111.0      22.0          1.0   \n",
       "1            2.0            111.0      22.0          1.0   \n",
       "2            2.0            111.0      22.0          1.0   \n",
       "3            2.0            111.0      22.0          1.0   \n",
       "4            2.0            111.0      22.0          1.0   \n",
       "\n",
       "   g2_beamBackgroundSuppression  g2_fakePhotonSuppression  \n",
       "0                      0.998653                  0.999078  \n",
       "1                      0.997489                  0.912098  \n",
       "2                      0.998546                  0.922378  \n",
       "3                      0.999642                  0.999356  \n",
       "4                      0.998713                  0.931177  \n",
       "\n",
       "[5 rows x 139 columns]"
      ]
     },
     "execution_count": 7,
     "metadata": {},
     "output_type": "execute_result"
    }
   ],
   "source": [
    "df_test.head()"
   ]
  },
  {
   "cell_type": "code",
   "execution_count": null,
   "metadata": {},
   "outputs": [],
   "source": [
    "df_test[:100000].K_CMS_p.describe()"
   ]
  },
  {
   "cell_type": "code",
   "execution_count": 10,
   "metadata": {
    "scrolled": true
   },
   "outputs": [
    {
     "name": "stdout",
     "output_type": "stream",
     "text": [
      "__experiment__                    0\n",
      "__run__                           0\n",
      "__event__                         0\n",
      "__production__                    0\n",
      "__candidate__                     0\n",
      "__ncandidates__                   0\n",
      "__weight__                        0\n",
      "Ecms                              0\n",
      "B_Mbc                             0\n",
      "B_deltaE                          0\n",
      "B_isContinuumEvent                0\n",
      "B_R2                              0\n",
      "B_thrustBm                        0\n",
      "B_thrustOm                        0\n",
      "B_cosTBTO                         0\n",
      "B_cosTBz                          0\n",
      "B_KSFWV_et                        0\n",
      "B_KSFWV_mm2                       0\n",
      "B_KSFWV_hso00                     0\n",
      "B_KSFWV_hso01                     0\n",
      "B_KSFWV_hso02                     0\n",
      "B_KSFWV_hso03                     0\n",
      "B_KSFWV_hso04                     0\n",
      "B_KSFWV_hso10                     0\n",
      "B_KSFWV_hso12                     0\n",
      "B_KSFWV_hso14                     0\n",
      "B_KSFWV_hso20                     0\n",
      "B_KSFWV_hso22                     0\n",
      "B_KSFWV_hso24                     0\n",
      "B_KSFWV_hoo0                      0\n",
      "B_KSFWV_hoo1                      0\n",
      "B_KSFWV_hoo2                      0\n",
      "B_KSFWV_hoo3                      0\n",
      "B_KSFWV_hoo4                      0\n",
      "B_CC1                             0\n",
      "B_CC2                             0\n",
      "B_CC3                             0\n",
      "B_CC4                             0\n",
      "B_CC5                             0\n",
      "B_CC6                             0\n",
      "B_CC7                             0\n",
      "B_CC8                             0\n",
      "B_CC9                             0\n",
      "B_foxWolframR1                    0\n",
      "B_foxWolframR4                    0\n",
      "B_thrustAxisCosTheta              0\n",
      "B_DeltaZ                        117\n",
      "B_DeltaZErr                       0\n",
      "B_TagVReChi2                      0\n",
      "B_TagVReChi2IP                    0\n",
      "B_TagVx                         117\n",
      "B_TagVxErr                        0\n",
      "B_TagVy                         117\n",
      "B_TagVyErr                        0\n",
      "B_TagVz                         117\n",
      "B_TagVzErr                        0\n",
      "B_TagVNTracks                     0\n",
      "B_daughterAngle                   0\n",
      "B_daughterAngle_CMS               0\n",
      "B_daughterDiff_phi                0\n",
      "B_daughterDiff_CMS_phi            0\n",
      "B_daughterDiff_theta              0\n",
      "B_daughterDiff_CMS_theta          0\n",
      "B_daughterDiff_p                  0\n",
      "B_daughterDiff_CMS_p              0\n",
      "B_p                               0\n",
      "B_pErr                            0\n",
      "B_phi                             0\n",
      "B_phiErr                          0\n",
      "B_theta                           0\n",
      "B_thetaErr                        0\n",
      "B_roeP                            0\n",
      "B_roePTheta                       0\n",
      "B_roeCharge                       0\n",
      "B_mcErrors                        0\n",
      "B_mcPDG                           0\n",
      "B_isSignal                        0\n",
      "B_CMS_cosTheta                    0\n",
      "K_p                               0\n",
      "K_pErr                            0\n",
      "K_phi                             0\n",
      "K_phiErr                          0\n",
      "K_theta                           0\n",
      "K_thetaErr                        0\n",
      "K_nCDCHits                        0\n",
      "K_pValue                          0\n",
      "K_charge                          0\n",
      "K_electronID_noSVD                0\n",
      "K_kaonID_noSVD                    0\n",
      "K_muonID_noSVD                    0\n",
      "K_pionID_noSVD                    0\n",
      "K_protonID_noSVD                  0\n",
      "K_deuteronID_noSVD                0\n",
      "K_genMotherPDG                    0\n",
      "K_mcPDG                           0\n",
      "K_isSignal                        0\n",
      "pi_CMS_px                         0\n",
      "pi_CMS_py                         0\n",
      "pi_CMS_pz                         0\n",
      "pi_CMS_pt                         0\n",
      "pi_CMS_p                          0\n",
      "pi_CMS_E                          0\n",
      "pi_genMotherPDG                   0\n",
      "pi_mcErrors                       0\n",
      "pi_mcPDG                          0\n",
      "pi_isSignal                       0\n",
      "pi_M                              0\n",
      "g1_p                              0\n",
      "g1_pErr                           0\n",
      "g1_phi                            0\n",
      "g1_phiErr                         0\n",
      "g1_theta                          0\n",
      "g1_thetaErr                       0\n",
      "g1_clusterNHits                   0\n",
      "g1_clusterTiming                  0\n",
      "g1_clusterE9E21                   0\n",
      "g1_clusterE                       0\n",
      "g1_clusterReg                     0\n",
      "g1_genMotherPDG                   0\n",
      "g1_mcPDG                          5\n",
      "g1_isSignal                       0\n",
      "g1_beamBackgroundSuppression      0\n",
      "g1_fakePhotonSuppression          0\n",
      "g2_p                              0\n",
      "g2_pErr                           0\n",
      "g2_phi                            0\n",
      "g2_phiErr                         0\n",
      "g2_theta                          0\n",
      "g2_thetaErr                       0\n",
      "g2_clusterNHits                   0\n",
      "g2_clusterTiming                  0\n",
      "g2_clusterE9E21                   0\n",
      "g2_clusterE                       0\n",
      "g2_clusterReg                     0\n",
      "g2_genMotherPDG                   0\n",
      "g2_mcPDG                          3\n",
      "g2_isSignal                       0\n",
      "g2_beamBackgroundSuppression      0\n",
      "g2_fakePhotonSuppression          0\n",
      "dtype: int64\n"
     ]
    }
   ],
   "source": [
    "pd.set_option('display.max_rows', None)\n",
    "print(df_test.isna().sum())"
   ]
  },
  {
   "cell_type": "markdown",
   "metadata": {},
   "source": [
    "# 3. Kaon ID performance"
   ]
  },
  {
   "cell_type": "code",
   "execution_count": 11,
   "metadata": {},
   "outputs": [
    {
     "data": {
      "text/plain": [
       "K_isSignal  K_mcPDG\n",
       " 0.0        -211.0     12605\n",
       "             211.0     11485\n",
       "-1.0        -1.0          76\n",
       " 1.0         321.0        22\n",
       "            -321.0         8\n",
       " 0.0         2212.0        7\n",
       "            -13.0          2\n",
       "             13.0          2\n",
       "dtype: int64"
      ]
     },
     "execution_count": 11,
     "metadata": {},
     "output_type": "execute_result"
    }
   ],
   "source": [
    "df_test[['K_isSignal','K_mcPDG']].value_counts()"
   ]
  },
  {
   "cell_type": "code",
   "execution_count": null,
   "metadata": {},
   "outputs": [],
   "source": [
    "[K_kaonIDNN, K_kaonID_noSVD, K_pionIDNN, K_pionID_noSVD]"
   ]
  },
  {
   "cell_type": "code",
   "execution_count": 11,
   "metadata": {},
   "outputs": [
    {
     "data": {
      "text/plain": [
       "array([[<AxesSubplot:title={'center':'-1.0'}>,\n",
       "        <AxesSubplot:title={'center':'0.0'}>],\n",
       "       [<AxesSubplot:title={'center':'1.0'}>, <AxesSubplot:>]],\n",
       "      dtype=object)"
      ]
     },
     "execution_count": 11,
     "metadata": {},
     "output_type": "execute_result"
    },
    {
     "data": {
      "image/png": "[encoded data removed]",
      "text/plain": [
       "<Figure size 432x288 with 4 Axes>"
      ]
     },
     "metadata": {
      "needs_background": "light"
     },
     "output_type": "display_data"
    }
   ],
   "source": [
    "df.hist('K_binaryKID',bins=25, by='K_isSignal') # K_binaryKID > 0.9"
   ]
  },
  {
   "cell_type": "code",
   "execution_count": 10,
   "metadata": {},
   "outputs": [
    {
     "data": {
      "text/plain": [
       "array([[<AxesSubplot:title={'center':'-1.0'}>,\n",
       "        <AxesSubplot:title={'center':'0.0'}>],\n",
       "       [<AxesSubplot:title={'center':'1.0'}>, <AxesSubplot:>]],\n",
       "      dtype=object)"
      ]
     },
     "execution_count": 10,
     "metadata": {},
     "output_type": "execute_result"
    },
    {
     "data": {
      "image/png": "[encoded data removed]",
      "text/plain": [
       "<Figure size 432x288 with 4 Axes>"
      ]
     },
     "metadata": {
      "needs_background": "light"
     },
     "output_type": "display_data"
    }
   ],
   "source": [
    "df.hist('K_kaonID_noSVD',bins=25, by='K_isSignal') # K_kaonID_noSVD > 0.9"
   ]
  },
  {
   "cell_type": "code",
   "execution_count": 12,
   "metadata": {},
   "outputs": [
    {
     "data": {
      "text/plain": [
       "array([[<AxesSubplot:title={'center':'-1.0'}>,\n",
       "        <AxesSubplot:title={'center':'0.0'}>],\n",
       "       [<AxesSubplot:title={'center':'1.0'}>, <AxesSubplot:>]],\n",
       "      dtype=object)"
      ]
     },
     "execution_count": 12,
     "metadata": {},
     "output_type": "execute_result"
    },
    {
     "data": {
      "image/png": "[encoded data removed]",
      "text/plain": [
       "<Figure size 432x288 with 4 Axes>"
      ]
     },
     "metadata": {
      "needs_background": "light"
     },
     "output_type": "display_data"
    }
   ],
   "source": [
    "df.hist('K_kaonIDNN',bins=25, by='K_isSignal')"
   ]
  },
  {
   "cell_type": "code",
   "execution_count": 13,
   "metadata": {},
   "outputs": [
    {
     "data": {
      "text/plain": [
       "array([[<AxesSubplot:title={'center':'-1.0'}>,\n",
       "        <AxesSubplot:title={'center':'0.0'}>],\n",
       "       [<AxesSubplot:title={'center':'1.0'}>, <AxesSubplot:>]],\n",
       "      dtype=object)"
      ]
     },
     "execution_count": 13,
     "metadata": {},
     "output_type": "execute_result"
    },
    {
     "data": {
      "image/png": "[encoded data removed]",
      "text/plain": [
       "<Figure size 432x288 with 4 Axes>"
      ]
     },
     "metadata": {
      "needs_background": "light"
     },
     "output_type": "display_data"
    }
   ],
   "source": [
    "df.hist('K_pionIDNN',bins=25, by='K_isSignal') # K_pionIDNN < 0.1"
   ]
  },
  {
   "cell_type": "code",
   "execution_count": 16,
   "metadata": {},
   "outputs": [],
   "source": [
    "filtered_df1 = df.query('K_kaonID_noSVD > 0.5 and K_pionIDNN < 0.75').copy()"
   ]
  },
  {
   "cell_type": "code",
   "execution_count": 17,
   "metadata": {},
   "outputs": [
    {
     "name": "stdout",
     "output_type": "stream",
     "text": [
      "__experiment__                0\n",
      "__run__                       0\n",
      "__event__                     0\n",
      "__production__                0\n",
      "__candidate__                 0\n",
      "__ncandidates__               0\n",
      "__weight__                    0\n",
      "Ecms                          0\n",
      "B_CMS_px                      0\n",
      "B_CMS_py                      0\n",
      "B_CMS_pz                      0\n",
      "B_CMS_pt                      0\n",
      "B_CMS_p                       0\n",
      "B_CMS_E                       0\n",
      "B_px                          0\n",
      "B_py                          0\n",
      "B_pz                          0\n",
      "B_pt                          0\n",
      "B_p                           0\n",
      "B_E                           0\n",
      "B_Mbc                       665\n",
      "B_deltaE                      0\n",
      "B_isContinuumEvent            0\n",
      "B_R2                          0\n",
      "B_thrustBm                    0\n",
      "B_thrustOm                    0\n",
      "B_cosTBTO                     0\n",
      "B_cosTBz                      0\n",
      "B_KSFWV_et                    0\n",
      "B_KSFWV_mm2                   0\n",
      "B_KSFWV_hso00                 0\n",
      "B_KSFWV_hso01                 0\n",
      "B_KSFWV_hso02                 0\n",
      "B_KSFWV_hso03                 0\n",
      "B_KSFWV_hso04                 0\n",
      "B_KSFWV_hso10                 0\n",
      "B_KSFWV_hso12                 0\n",
      "B_KSFWV_hso14                 0\n",
      "B_KSFWV_hso20                 0\n",
      "B_KSFWV_hso22                 0\n",
      "B_KSFWV_hso24                 0\n",
      "B_KSFWV_hoo0                  0\n",
      "B_KSFWV_hoo1                  0\n",
      "B_KSFWV_hoo2                  0\n",
      "B_KSFWV_hoo3                  0\n",
      "B_KSFWV_hoo4                  0\n",
      "B_CC1                         0\n",
      "B_CC2                         0\n",
      "B_CC3                         0\n",
      "B_CC4                         0\n",
      "B_CC5                         0\n",
      "B_CC6                         0\n",
      "B_CC7                         0\n",
      "B_CC8                         0\n",
      "B_CC9                         0\n",
      "B_foxWolframR1                0\n",
      "B_foxWolframR4                0\n",
      "B_thrustAxisCosTheta          0\n",
      "B_DeltaZ                  19389\n",
      "B_DeltaZErr                   0\n",
      "B_TagVReChi2                  0\n",
      "B_TagVReChi2IP                0\n",
      "B_TagVx                   19389\n",
      "B_TagVxErr                    0\n",
      "B_TagVy                   19389\n",
      "B_TagVyErr                    0\n",
      "B_TagVz                   19389\n",
      "B_TagVzErr                    0\n",
      "B_TagVNTracks                 0\n",
      "B_mcErrors                    0\n",
      "B_mcPDG                   16121\n",
      "B_isSignal                16121\n",
      "B_vtxDDSig              4966014\n",
      "B_CMS_cosTheta                0\n",
      "K_CMS_px                      0\n",
      "K_CMS_py                      0\n",
      "K_CMS_pz                      0\n",
      "K_CMS_pt                      0\n",
      "K_CMS_p                       0\n",
      "K_CMS_E                       0\n",
      "K_CMS_mcE                 16121\n",
      "K_CMS_mcP                 16121\n",
      "K_CMS_mcPT                16121\n",
      "K_CMS_mcPX                16121\n",
      "K_CMS_mcPY                16121\n",
      "K_CMS_mcPZ                16121\n",
      "K_CMS_mcPhi               16121\n",
      "K_kaonIDNN                    0\n",
      "K_kaonID_noSVD                0\n",
      "K_pionIDNN                    0\n",
      "K_pionID_noSVD                0\n",
      "K_genMotherPDG                0\n",
      "K_mcErrors                    0\n",
      "K_mcPDG                   16121\n",
      "K_isSignal                    0\n",
      "pi_CMS_px                     0\n",
      "pi_CMS_py                     0\n",
      "pi_CMS_pz                     0\n",
      "pi_CMS_pt                     0\n",
      "pi_CMS_p                      0\n",
      "pi_CMS_E                      0\n",
      "pi_px                         0\n",
      "pi_py                         0\n",
      "pi_pz                         0\n",
      "pi_pt                         0\n",
      "pi_p                          0\n",
      "pi_E                          0\n",
      "pi_genMotherPDG               0\n",
      "pi_mcErrors                   0\n",
      "pi_mcPDG                      0\n",
      "pi_isSignal                   0\n",
      "pi_M                          0\n",
      "pi_d0_mcPDG                   0\n",
      "pi_d1_mcPDG                   0\n",
      "pi_daughterAngle              0\n",
      "dtype: int64\n"
     ]
    }
   ],
   "source": [
    "print(filtered_df1.isna().sum())"
   ]
  },
  {
   "cell_type": "markdown",
   "metadata": {},
   "source": [
    "# 4. pi0 beamBKG and fakePhoton"
   ]
  },
  {
   "cell_type": "code",
   "execution_count": 51,
   "metadata": {},
   "outputs": [
    {
     "data": {
      "text/plain": [
       "pi_isSignal  pi_mcPDG  \n",
       " 1.0          111.0        515034\n",
       " 0.0          300553.0     141156\n",
       "              511.0         41285\n",
       "             -511.0         41080\n",
       "              221.0         18461\n",
       "-1.0         -1.0            7646\n",
       " 0.0          310.0          5949\n",
       "              421.0          4803\n",
       "             -421.0          4573\n",
       "              411.0          3101\n",
       "             -411.0          3037\n",
       "              331.0          2668\n",
       "             -413.0          2292\n",
       "              413.0          2244\n",
       "              423.0          2107\n",
       "             -431.0          2084\n",
       "              431.0          2054\n",
       "             -423.0          1932\n",
       "              433.0          1770\n",
       "             -433.0          1685\n",
       "             -2212.0         1237\n",
       "             -20213.0        1203\n",
       "              20213.0        1144\n",
       "              10431.0        1130\n",
       "             -211.0          1108\n",
       "             -10431.0        1060\n",
       "              211.0           867\n",
       "              130.0           705\n",
       "              20433.0         615\n",
       "             -20433.0         602\n",
       "              111.0           574\n",
       "             -2112.0          557\n",
       "              9000221.0       532\n",
       "              313.0           525\n",
       "             -313.0           490\n",
       "             -321.0           401\n",
       "              443.0           363\n",
       "              441.0           267\n",
       "             -10413.0         246\n",
       "              10413.0         213\n",
       "             -4122.0          179\n",
       "             -323.0           160\n",
       "              321.0           159\n",
       "              20443.0         159\n",
       "              223.0           159\n",
       "              333.0           158\n",
       "              100441.0        154\n",
       "              100443.0        150\n",
       "              30443.0         150\n",
       "              415.0           146\n",
       "             -415.0           144\n",
       "              323.0           136\n",
       "             -213.0           128\n",
       "             -15.0            114\n",
       "              15.0            114\n",
       "              213.0           112\n",
       "             -20413.0         102\n",
       "              20413.0          94\n",
       "              4122.0           89\n",
       "              10441.0          86\n",
       "             -3122.0           82\n",
       "             -2214.0           77\n",
       "              10323.0          74\n",
       "             -10323.0          66\n",
       "             -4212.0           57\n",
       "             -2114.0           50\n",
       "             -20313.0          49\n",
       "              100113.0         43\n",
       "              20313.0          40\n",
       "              22.0             36\n",
       "              4212.0           35\n",
       "              445.0            34\n",
       "              10411.0          34\n",
       "             -10411.0          31\n",
       "             -10313.0          30\n",
       "             -3322.0           29\n",
       "             -3222.0           28\n",
       "             -4214.0           25\n",
       "             -4132.0           24\n",
       "             -44.0             23\n",
       "              4214.0           23\n",
       "             -3214.0           22\n",
       "             -100213.0         21\n",
       "              100213.0         21\n",
       "              10313.0          18\n",
       "              44.0             18\n",
       "             -10433.0          18\n",
       "             -3212.0           17\n",
       "              10433.0          17\n",
       "              3214.0           16\n",
       "              4132.0           15\n",
       "             -4314.0           14\n",
       "              4324.0           14\n",
       "             -4312.0           13\n",
       "              9000111.0        12\n",
       "              3322.0           10\n",
       "              4312.0           10\n",
       "             -4324.0            9\n",
       "              4314.0            9\n",
       "             -4232.0            8\n",
       "             -4322.0            7\n",
       "              3212.0            6\n",
       "              335.0             6\n",
       "             -30343.0           6\n",
       "              4322.0            6\n",
       "              10113.0           6\n",
       "             -4332.0            6\n",
       "              100221.0          5\n",
       "             -315.0             5\n",
       "              4232.0            4\n",
       "             -4334.0            4\n",
       "              30343.0           4\n",
       "              3122.0            4\n",
       "              113.0             3\n",
       "              20223.0           3\n",
       "              215.0             3\n",
       "              9020221.0         2\n",
       "              315.0             2\n",
       "              20113.0           2\n",
       "              2212.0            2\n",
       "             -3112.0            2\n",
       "              2114.0            2\n",
       "              225.0             2\n",
       "              3224.0            2\n",
       "              3324.0            1\n",
       "             -30313.0           1\n",
       "              115.0             1\n",
       "              4332.0            1\n",
       "             -11.0              1\n",
       "             -2224.0            1\n",
       "              4112.0            1\n",
       "             -3224.0            1\n",
       "             -3314.0            1\n",
       "              9010221.0         1\n",
       "             -3324.0            1\n",
       "              100323.0          1\n",
       "dtype: int64"
      ]
     },
     "execution_count": 51,
     "metadata": {},
     "output_type": "execute_result"
    }
   ],
   "source": [
    "df_mixed[['pi_isSignal','pi_mcPDG']].value_counts()"
   ]
  },
  {
   "cell_type": "code",
   "execution_count": 10,
   "metadata": {},
   "outputs": [
    {
     "data": {
      "text/plain": [
       "array([[<AxesSubplot:title={'center':'-1.0'}>,\n",
       "        <AxesSubplot:title={'center':'0.0'}>],\n",
       "       [<AxesSubplot:title={'center':'1.0'}>, <AxesSubplot:>]],\n",
       "      dtype=object)"
      ]
     },
     "execution_count": 10,
     "metadata": {},
     "output_type": "execute_result"
    },
    {
     "data": {
      "image/png": "[encoded data removed]",
      "text/plain": [
       "<Figure size 432x288 with 4 Axes>"
      ]
     },
     "metadata": {
      "needs_background": "light"
     },
     "output_type": "display_data"
    }
   ],
   "source": [
    "df.hist('pi_d0_beamBkgSuppress',bins=25, by='pi_isSignal')"
   ]
  },
  {
   "cell_type": "code",
   "execution_count": 11,
   "metadata": {},
   "outputs": [
    {
     "data": {
      "text/plain": [
       "array([[<AxesSubplot:title={'center':'-1.0'}>,\n",
       "        <AxesSubplot:title={'center':'0.0'}>],\n",
       "       [<AxesSubplot:title={'center':'1.0'}>, <AxesSubplot:>]],\n",
       "      dtype=object)"
      ]
     },
     "execution_count": 11,
     "metadata": {},
     "output_type": "execute_result"
    },
    {
     "data": {
      "image/png": "[encoded data removed]",
      "text/plain": [
       "<Figure size 432x288 with 4 Axes>"
      ]
     },
     "metadata": {
      "needs_background": "light"
     },
     "output_type": "display_data"
    }
   ],
   "source": [
    "df.hist('pi_d1_beamBkgSuppress',bins=25, by='pi_isSignal')"
   ]
  },
  {
   "cell_type": "code",
   "execution_count": 12,
   "metadata": {},
   "outputs": [
    {
     "data": {
      "text/plain": [
       "array([[<AxesSubplot:title={'center':'-1.0'}>,\n",
       "        <AxesSubplot:title={'center':'0.0'}>],\n",
       "       [<AxesSubplot:title={'center':'1.0'}>, <AxesSubplot:>]],\n",
       "      dtype=object)"
      ]
     },
     "execution_count": 12,
     "metadata": {},
     "output_type": "execute_result"
    },
    {
     "data": {
      "image/png": "[encoded data removed]",
      "text/plain": [
       "<Figure size 432x288 with 4 Axes>"
      ]
     },
     "metadata": {
      "needs_background": "light"
     },
     "output_type": "display_data"
    }
   ],
   "source": [
    "df.hist('pi_d0_fakePhoSuppress',bins=25, by='pi_isSignal') # pi_d0_fakePhoSuppress>0.8"
   ]
  },
  {
   "cell_type": "code",
   "execution_count": 13,
   "metadata": {},
   "outputs": [
    {
     "data": {
      "text/plain": [
       "array([[<AxesSubplot:title={'center':'-1.0'}>,\n",
       "        <AxesSubplot:title={'center':'0.0'}>],\n",
       "       [<AxesSubplot:title={'center':'1.0'}>, <AxesSubplot:>]],\n",
       "      dtype=object)"
      ]
     },
     "execution_count": 13,
     "metadata": {},
     "output_type": "execute_result"
    },
    {
     "data": {
      "image/png": "[encoded data removed]",
      "text/plain": [
       "<Figure size 432x288 with 4 Axes>"
      ]
     },
     "metadata": {
      "needs_background": "light"
     },
     "output_type": "display_data"
    }
   ],
   "source": [
    "df.hist('pi_d1_fakePhoSuppress',bins=25, by='pi_isSignal') # pi_d1_fakePhoSuppress>0.8"
   ]
  },
  {
   "cell_type": "code",
   "execution_count": 25,
   "metadata": {},
   "outputs": [
    {
     "data": {
      "text/plain": [
       "array([[<AxesSubplot:title={'center':'-1.0'}>,\n",
       "        <AxesSubplot:title={'center':'0.0'}>],\n",
       "       [<AxesSubplot:title={'center':'1.0'}>, <AxesSubplot:>]],\n",
       "      dtype=object)"
      ]
     },
     "execution_count": 25,
     "metadata": {},
     "output_type": "execute_result"
    },
    {
     "data": {
      "image/png": "[encoded data removed]",
      "text/plain": [
       "<Figure size 432x288 with 4 Axes>"
      ]
     },
     "metadata": {
      "needs_background": "light"
     },
     "output_type": "display_data"
    }
   ],
   "source": [
    "df.hist('pi_daughterAngle',bins=25, by='pi_isSignal') # pi_daughterAngle<1"
   ]
  },
  {
   "cell_type": "code",
   "execution_count": 26,
   "metadata": {},
   "outputs": [
    {
     "data": {
      "text/plain": [
       "array([[<AxesSubplot:title={'center':'-1.0'}>,\n",
       "        <AxesSubplot:title={'center':'0.0'}>],\n",
       "       [<AxesSubplot:title={'center':'1.0'}>, <AxesSubplot:>]],\n",
       "      dtype=object)"
      ]
     },
     "execution_count": 26,
     "metadata": {},
     "output_type": "execute_result"
    },
    {
     "data": {
      "image/png": "[encoded data removed]",
      "text/plain": [
       "<Figure size 432x288 with 4 Axes>"
      ]
     },
     "metadata": {
      "needs_background": "light"
     },
     "output_type": "display_data"
    }
   ],
   "source": [
    "df.hist('pi_daughterDiff_phi',bins=25,by='pi_isSignal') # abs(pi_daughterDiff_phi)<1"
   ]
  },
  {
   "cell_type": "code",
   "execution_count": 8,
   "metadata": {},
   "outputs": [
    {
     "data": {
      "text/plain": [
       "array([[<AxesSubplot:title={'center':'-1.0'}>,\n",
       "        <AxesSubplot:title={'center':'0.0'}>],\n",
       "       [<AxesSubplot:title={'center':'1.0'}>, <AxesSubplot:>]],\n",
       "      dtype=object)"
      ]
     },
     "execution_count": 8,
     "metadata": {},
     "output_type": "execute_result"
    },
    {
     "data": {
      "image/png": "[encoded data removed]",
      "text/plain": [
       "<Figure size 432x288 with 4 Axes>"
      ]
     },
     "metadata": {
      "needs_background": "light"
     },
     "output_type": "display_data"
    }
   ],
   "source": [
    "test_sig.query('pi_M<0.2').hist('pi_M',bins=40, by='pi_isSignal')"
   ]
  },
  {
   "cell_type": "code",
   "execution_count": null,
   "metadata": {},
   "outputs": [],
   "source": [
    "df.hist('pi_daughterDiff_rest_phi',bins=25,by='pi_isSignal')"
   ]
  },
  {
   "cell_type": "code",
   "execution_count": 19,
   "metadata": {},
   "outputs": [
    {
     "name": "stdout",
     "output_type": "stream",
     "text": [
      "__experiment__                0\n",
      "__run__                       0\n",
      "__event__                     0\n",
      "__production__                0\n",
      "__candidate__                 0\n",
      "__ncandidates__               0\n",
      "__weight__                    0\n",
      "Ecms                          0\n",
      "B_CMS_px                      0\n",
      "B_CMS_py                      0\n",
      "B_CMS_pz                      0\n",
      "B_CMS_pt                      0\n",
      "B_CMS_p                       0\n",
      "B_CMS_E                       0\n",
      "B_px                          0\n",
      "B_py                          0\n",
      "B_pz                          0\n",
      "B_pt                          0\n",
      "B_p                           0\n",
      "B_E                           0\n",
      "B_Mbc                       600\n",
      "B_deltaE                      0\n",
      "B_isContinuumEvent            0\n",
      "B_R2                          0\n",
      "B_thrustBm                    0\n",
      "B_thrustOm                    0\n",
      "B_cosTBTO                     0\n",
      "B_cosTBz                      0\n",
      "B_KSFWV_et                    0\n",
      "B_KSFWV_mm2                   0\n",
      "B_KSFWV_hso00                 0\n",
      "B_KSFWV_hso01                 0\n",
      "B_KSFWV_hso02                 0\n",
      "B_KSFWV_hso03                 0\n",
      "B_KSFWV_hso04                 0\n",
      "B_KSFWV_hso10                 0\n",
      "B_KSFWV_hso12                 0\n",
      "B_KSFWV_hso14                 0\n",
      "B_KSFWV_hso20                 0\n",
      "B_KSFWV_hso22                 0\n",
      "B_KSFWV_hso24                 0\n",
      "B_KSFWV_hoo0                  0\n",
      "B_KSFWV_hoo1                  0\n",
      "B_KSFWV_hoo2                  0\n",
      "B_KSFWV_hoo3                  0\n",
      "B_KSFWV_hoo4                  0\n",
      "B_CC1                         0\n",
      "B_CC2                         0\n",
      "B_CC3                         0\n",
      "B_CC4                         0\n",
      "B_CC5                         0\n",
      "B_CC6                         0\n",
      "B_CC7                         0\n",
      "B_CC8                         0\n",
      "B_CC9                         0\n",
      "B_foxWolframR1                0\n",
      "B_foxWolframR4                0\n",
      "B_thrustAxisCosTheta          0\n",
      "B_DeltaZ                  19382\n",
      "B_DeltaZErr                   0\n",
      "B_TagVReChi2                  0\n",
      "B_TagVReChi2IP                0\n",
      "B_TagVx                   19382\n",
      "B_TagVxErr                    0\n",
      "B_TagVy                   19382\n",
      "B_TagVyErr                    0\n",
      "B_TagVz                   19382\n",
      "B_TagVzErr                    0\n",
      "B_TagVNTracks                 0\n",
      "B_mcErrors                    0\n",
      "B_mcPDG                       0\n",
      "B_isSignal                    0\n",
      "B_vtxDDSig              4949893\n",
      "B_CMS_cosTheta                0\n",
      "K_CMS_px                      0\n",
      "K_CMS_py                      0\n",
      "K_CMS_pz                      0\n",
      "K_CMS_pt                      0\n",
      "K_CMS_p                       0\n",
      "K_CMS_E                       0\n",
      "K_CMS_mcE                     0\n",
      "K_CMS_mcP                     0\n",
      "K_CMS_mcPT                    0\n",
      "K_CMS_mcPX                    0\n",
      "K_CMS_mcPY                    0\n",
      "K_CMS_mcPZ                    0\n",
      "K_CMS_mcPhi                   0\n",
      "K_kaonIDNN                    0\n",
      "K_kaonID_noSVD                0\n",
      "K_pionIDNN                    0\n",
      "K_pionID_noSVD                0\n",
      "K_genMotherPDG                0\n",
      "K_mcErrors                    0\n",
      "K_mcPDG                       0\n",
      "K_isSignal                    0\n",
      "pi_CMS_px                     0\n",
      "pi_CMS_py                     0\n",
      "pi_CMS_pz                     0\n",
      "pi_CMS_pt                     0\n",
      "pi_CMS_p                      0\n",
      "pi_CMS_E                      0\n",
      "pi_px                         0\n",
      "pi_py                         0\n",
      "pi_pz                         0\n",
      "pi_pt                         0\n",
      "pi_p                          0\n",
      "pi_E                          0\n",
      "pi_genMotherPDG               0\n",
      "pi_mcErrors                   0\n",
      "pi_mcPDG                      0\n",
      "pi_isSignal                   0\n",
      "pi_M                          0\n",
      "pi_d0_mcPDG                   0\n",
      "pi_d1_mcPDG                   0\n",
      "pi_daughterAngle              0\n",
      "dtype: int64\n"
     ]
    }
   ],
   "source": [
    "print(filtered_df2.isna().sum())"
   ]
  },
  {
   "cell_type": "markdown",
   "metadata": {},
   "source": [
    "# 5. B_Mbc"
   ]
  },
  {
   "cell_type": "code",
   "execution_count": 35,
   "metadata": {},
   "outputs": [
    {
     "data": {
      "text/plain": [
       "array([[<AxesSubplot:title={'center':'B_M'}>]], dtype=object)"
      ]
     },
     "execution_count": 35,
     "metadata": {},
     "output_type": "execute_result"
    },
    {
     "data": {
      "image/png": "[encoded data removed]",
      "text/plain": [
       "<Figure size 432x288 with 1 Axes>"
      ]
     },
     "metadata": {
      "needs_background": "light"
     },
     "output_type": "display_data"
    }
   ],
   "source": [
    "test_misID.query('B_mcErrors==128').hist('B_M',bins=30, label='misID')\n",
    "# test_charged.query('5.5>B_M>4.5 and B_mcErrors!=128 and B_mcErrors>0').hist('B_M',bins=30, label='BBbar')\n",
    "# test_ccbar.query('5.5>B_M>4.5').hist('B_M',bins=30, label='ccbar')"
   ]
  },
  {
   "cell_type": "code",
   "execution_count": 23,
   "metadata": {},
   "outputs": [
    {
     "data": {
      "text/plain": [
       "array([[<AxesSubplot:title={'center':'-1.0'}>,\n",
       "        <AxesSubplot:title={'center':'0.0'}>],\n",
       "       [<AxesSubplot:title={'center':'1.0'}>, <AxesSubplot:>]],\n",
       "      dtype=object)"
      ]
     },
     "execution_count": 23,
     "metadata": {},
     "output_type": "execute_result"
    },
    {
     "data": {
      "image/png": "[encoded data removed]",
      "text/plain": [
       "<Figure size 432x288 with 4 Axes>"
      ]
     },
     "metadata": {
      "needs_background": "light"
     },
     "output_type": "display_data"
    }
   ],
   "source": [
    "test_sig.query('5.4>B_M>5').hist('B_M',bins=30, by='B_isSignal')"
   ]
  },
  {
   "cell_type": "code",
   "execution_count": 24,
   "metadata": {},
   "outputs": [
    {
     "data": {
      "text/plain": [
       "array([[<AxesSubplot:title={'center':'-1.0'}>,\n",
       "        <AxesSubplot:title={'center':'0.0'}>],\n",
       "       [<AxesSubplot:title={'center':'1.0'}>, <AxesSubplot:>]],\n",
       "      dtype=object)"
      ]
     },
     "execution_count": 24,
     "metadata": {},
     "output_type": "execute_result"
    },
    {
     "data": {
      "image/png": "[encoded data removed]",
      "text/plain": [
       "<Figure size 432x288 with 4 Axes>"
      ]
     },
     "metadata": {
      "needs_background": "light"
     },
     "output_type": "display_data"
    }
   ],
   "source": [
    "test_sig.query('B_Mbc>5.25').hist('B_Mbc',bins=30, by='B_isSignal')"
   ]
  },
  {
   "cell_type": "code",
   "execution_count": 33,
   "metadata": {},
   "outputs": [
    {
     "data": {
      "text/plain": [
       "array([[<AxesSubplot:title={'center':'B_Mbc'}>]], dtype=object)"
      ]
     },
     "execution_count": 33,
     "metadata": {},
     "output_type": "execute_result"
    },
    {
     "data": {
      "image/png": "[encoded data removed]",
      "text/plain": [
       "<Figure size 432x288 with 1 Axes>"
      ]
     },
     "metadata": {
      "needs_background": "light"
     },
     "output_type": "display_data"
    }
   ],
   "source": [
    "test_misID.query('B_Mbc>5.25 and B_mcErrors==128').hist('B_Mbc',bins=30, label='misID')"
   ]
  },
  {
   "cell_type": "code",
   "execution_count": 34,
   "metadata": {},
   "outputs": [
    {
     "data": {
      "text/plain": [
       "array([[<AxesSubplot:title={'center':'B_Mbc'}>]], dtype=object)"
      ]
     },
     "execution_count": 34,
     "metadata": {},
     "output_type": "execute_result"
    },
    {
     "data": {
      "image/png": "[encoded data removed]",
      "text/plain": [
       "<Figure size 432x288 with 1 Axes>"
      ]
     },
     "metadata": {
      "needs_background": "light"
     },
     "output_type": "display_data"
    },
    {
     "data": {
      "image/png": "[encoded data removed]",
      "text/plain": [
       "<Figure size 432x288 with 1 Axes>"
      ]
     },
     "metadata": {
      "needs_background": "light"
     },
     "output_type": "display_data"
    },
    {
     "data": {
      "image/png": "[encoded data removed]",
      "text/plain": [
       "<Figure size 432x288 with 1 Axes>"
      ]
     },
     "metadata": {
      "needs_background": "light"
     },
     "output_type": "display_data"
    }
   ],
   "source": [
    "test_misID.query('B_mcErrors==128').hist('B_Mbc',bins=30, label='misID')\n",
    "test_charged.query('B_mcErrors!=128 and B_mcErrors>0').hist('B_Mbc',bins=30, label='BBbar')\n",
    "test_ccbar.hist('B_Mbc',bins=30, label='ccbar')"
   ]
  },
  {
   "cell_type": "code",
   "execution_count": null,
   "metadata": {},
   "outputs": [],
   "source": []
  },
  {
   "cell_type": "code",
   "execution_count": 4,
   "metadata": {},
   "outputs": [
    {
     "data": {
      "image/png": "[encoded data removed]",
      "text/plain": [
       "<Figure size 360x288 with 2 Axes>"
      ]
     },
     "metadata": {
      "needs_background": "light"
     },
     "output_type": "display_data"
    },
    {
     "data": {
      "image/png": "[encoded data removed]",
      "text/plain": [
       "<Figure size 360x288 with 2 Axes>"
      ]
     },
     "metadata": {
      "needs_background": "light"
     },
     "output_type": "display_data"
    }
   ],
   "source": [
    "import matplotlib.colors as colors\n",
    "import matplotlib.cm as cm\n",
    "\n",
    "variables=['B_daughterDiff_CMS_phi', 'B_daughterAngle_CMS', 'B_daughterDiff_CMS_p']\n",
    "def plot_correlation(df, title, cut=None, target='B0_CMS3_weMissM2', variables=variables):\n",
    "    fig = plt.figure(figsize=[5*len(variables),4],constrained_layout=True)\n",
    "    fig.suptitle(title,fontsize=14)\n",
    "    for i in range(len(variables)):\n",
    "        ax = fig.add_subplot(1,len(variables),i+1)\n",
    "        counts, xedges, yedges, im = ax.hist2d(x=df.query(cut)[variables[i]] if cut else df[variables[i]], \n",
    "                  y=df.query(cut)[target] if cut else df[target], \n",
    "                  bins=30,cmap='rainbow', norm=colors.LogNorm())\n",
    "        ax.set_ylabel(target,fontsize=12)\n",
    "        ax.set_xlabel(variables[i],fontsize=12)\n",
    "        ax.grid()\n",
    "        fig.colorbar(im,orientation='vertical',ax=ax)\n",
    "        \n",
    "plot_correlation(df=df_test, title='bkg',cut='B_isSignal!=1 and B_Mbc>0',target='B_Mbc',variables=['B_deltaE'])\n",
    "plot_correlation(df=df_test, title='sig',cut='B_isSignal==1 and B_Mbc>0',target='B_Mbc',variables=['B_deltaE'])\n",
    "# plot_correlation(df=df_test, title='bkg',cut='B_isSignal!=1 and B_Mbc>0',target='B_Mbc',variables=variables)\n",
    "# plot_correlation(df=df_test, title='sig',cut='B_isSignal==1 and B_Mbc>0',target='B_Mbc',variables=variables)"
   ]
  },
  {
   "cell_type": "code",
   "execution_count": 3,
   "metadata": {},
   "outputs": [],
   "source": [
    "def plot_hist1d(data, title, variables, samples_dict):\n",
    "    fig = plt.figure(figsize=[5*len(variables),4],constrained_layout=True)\n",
    "    fig.suptitle(title,fontsize=14)\n",
    "    for index, (var, cut) in enumerate(variables.items()):\n",
    "        ax = fig.add_subplot(1,len(variables),index+1)\n",
    "        df = data.query(cut)\n",
    "        for name, selection in samples_dict.items():\n",
    "            ax.hist(df.query(selection)[var], bins=20, label=name)\n",
    "        ax.set_ylabel('# of events per bin',fontsize=12)\n",
    "        ax.set_xlabel(var,fontsize=12)\n",
    "        ax.legend()\n",
    "        ax.grid()"
   ]
  },
  {
   "cell_type": "code",
   "execution_count": 4,
   "metadata": {},
   "outputs": [],
   "source": [
    "df_test = pd.concat([test_charged, test_ccbar], ignore_index=True)\n",
    "variables = {'B_deltaE':'B_Mbc>5.26 and B_R2<0.45 and -1<B_deltaE<1',\n",
    "             'B_Mbc':'-0.4<B_deltaE<0.4 and B_R2<0.45 and B_Mbc>4'}\n",
    "samples_dict = {'signal':'B_isSignal==1', 'misID':'B_mcErrors==128',\n",
    "                'BBbar': 'B_mcErrors>0 and B_mcErrors!=128',\n",
    "                'qqbar': 'B_isContinuumEvent==True'}"
   ]
  },
  {
   "cell_type": "code",
   "execution_count": 5,
   "metadata": {},
   "outputs": [
    {
     "data": {
      "image/png": "[encoded data removed]",
      "text/plain": [
       "<Figure size 720x288 with 2 Axes>"
      ]
     },
     "metadata": {
      "needs_background": "light"
     },
     "output_type": "display_data"
    }
   ],
   "source": [
    "plot_hist1d(df_test, 'DeltaE and Mbc', variables, samples_dict)"
   ]
  },
  {
   "cell_type": "code",
   "execution_count": 14,
   "metadata": {},
   "outputs": [
    {
     "name": "stdout",
     "output_type": "stream",
     "text": [
      "Content of MCParticle list\n",
      "╰── Upsilon(4S) (300553)\n",
      "    ├── B- (-521)\n",
      "    │   ├── K- (-321)\n",
      "    │   │   ├╶╶ e- (11)\n",
      "    │   │   ├╶╶ gamma (22)\n",
      "    │   │   ├╶╶ gamma (22)\n",
      "    │   │   ├╶╶ n0 (2112)\n",
      "    │   │   ├╶╶ n0 (2112)\n",
      "    │   │   ├╶╶ pi0 (111)\n",
      "    │   │   │   ├╶╶ gamma (22)\n",
      "    │   │   │   ╰╶╶ gamma (22)\n",
      "    │   │   ├╶╶ n0 (2112)\n",
      "    │   │   ├╶╶ n0 (2112)\n",
      "    │   │   ├╶╶ n0 (2112)\n",
      "    │   │   ├╶╶ n0 (2112)\n",
      "    │   │   ╰╶╶ n0 (2112)\n",
      "    │   ├── pi0 (111)\n",
      "    │   │   ├── gamma (22)\n",
      "    │   │   ╰── gamma (22)\n",
      "    │   ╰── gamma (22)\n",
      "    ╰── B+ (521)\n",
      "        ├── anti-D*0 (-423)\n",
      "        │   ├── anti-D0 (-421)\n",
      "        │   │   ├── K_L0 (130)\n",
      "        │   │   │   ├╶╶ pi0 (111)\n",
      "        │   │   │   │   ├╶╶ gamma (22)\n",
      "        │   │   │   │   ╰╶╶ gamma (22)\n",
      "        │   │   │   ├╶╶ pi0 (111)\n",
      "        │   │   │   │   ├╶╶ gamma (22)\n",
      "        │   │   │   │   ╰╶╶ gamma (22)\n",
      "        │   │   │   ╰╶╶ n0 (2112)\n",
      "        │   │   ├── pi+ (211)\n",
      "        │   │   │   ├╶╶ nu_mu (14)\n",
      "        │   │   │   ╰╶╶ mu+ (-13)\n",
      "        │   │   │       ├╶╶ anti-nu_mu (-14)\n",
      "        │   │   │       ├╶╶ nu_e (12)\n",
      "        │   │   │       ╰╶╶ e+ (-11)\n",
      "        │   │   ╰── pi- (-211)\n",
      "        │   ╰── pi0 (111)\n",
      "        │       ├── gamma (22)\n",
      "        │       ╰── gamma (22)\n",
      "        ├── mu+ (-13)\n",
      "        ╰── nu_mu (14)\n",
      "\n"
     ]
    }
   ],
   "source": [
    "print(missing_photon['__MCDecayString__'][43])"
   ]
  },
  {
   "cell_type": "markdown",
   "metadata": {},
   "source": [
    "# 7. Final Selection"
   ]
  },
  {
   "cell_type": "code",
   "execution_count": 38,
   "metadata": {},
   "outputs": [
    {
     "data": {
      "text/plain": [
       "7787"
      ]
     },
     "execution_count": 38,
     "metadata": {},
     "output_type": "execute_result"
    }
   ],
   "source": [
    "final_df = df.query('abs(pi_daughterDiff_phi)<1 and pi_daughterAngle<1 and \\\n",
    "abs(pi_daughterDiff_theta)<0.5 and pi_d0_fakePhotonSuppression>0.8 and pi_d1_fakePhotonSuppression>0.8 and \\\n",
    "K_kaonID_noSVD>0.9 and K_pionIDNN<0.1 and K_binaryKID>0.9 and \\\n",
    "B_daughterAngle_CMS>2.96 and abs(B_daughterDiff_CMS_phi)>2.9 and abs(B_daughterDiff_CMS_p)<0.5')\n",
    "len(final_df)"
   ]
  },
  {
   "cell_type": "code",
   "execution_count": 18,
   "metadata": {},
   "outputs": [
    {
     "name": "stdout",
     "output_type": "stream",
     "text": [
      "__experiment__             0\n",
      "__run__                    0\n",
      "__event__                  0\n",
      "__production__             0\n",
      "__candidate__              0\n",
      "__ncandidates__            0\n",
      "__weight__                 0\n",
      "Ecms                       0\n",
      "B_CMS_px                   0\n",
      "B_CMS_py                   0\n",
      "B_CMS_pz                   0\n",
      "B_CMS_pt                   0\n",
      "B_CMS_p                    0\n",
      "B_CMS_E                    0\n",
      "B_CMS_mcE                  0\n",
      "B_CMS_mcP                  0\n",
      "B_CMS_mcPT                 0\n",
      "B_CMS_mcPX                 0\n",
      "B_CMS_mcPY                 0\n",
      "B_CMS_mcPZ                 0\n",
      "B_CMS_mcPhi                0\n",
      "B_Mbc                      0\n",
      "B_deltaE                   0\n",
      "B_isContinuumEvent         0\n",
      "B_R2                       0\n",
      "B_thrustBm                 0\n",
      "B_thrustOm                 0\n",
      "B_cosTBTO                  0\n",
      "B_cosTBz                   0\n",
      "B_KSFWV_et                 0\n",
      "B_KSFWV_mm2                0\n",
      "B_KSFWV_hso00              0\n",
      "B_KSFWV_hso01              0\n",
      "B_KSFWV_hso02              0\n",
      "B_KSFWV_hso03              0\n",
      "B_KSFWV_hso04              0\n",
      "B_KSFWV_hso10              0\n",
      "B_KSFWV_hso12              0\n",
      "B_KSFWV_hso14              0\n",
      "B_KSFWV_hso20              0\n",
      "B_KSFWV_hso22              0\n",
      "B_KSFWV_hso24              0\n",
      "B_KSFWV_hoo0               0\n",
      "B_KSFWV_hoo1               0\n",
      "B_KSFWV_hoo2               0\n",
      "B_KSFWV_hoo3               0\n",
      "B_KSFWV_hoo4               0\n",
      "B_CC1                      0\n",
      "B_CC2                      0\n",
      "B_CC3                      0\n",
      "B_CC4                      0\n",
      "B_CC5                      0\n",
      "B_CC6                      0\n",
      "B_CC7                      0\n",
      "B_CC8                      0\n",
      "B_CC9                      0\n",
      "B_foxWolframR1             0\n",
      "B_foxWolframR4             0\n",
      "B_thrustAxisCosTheta       0\n",
      "B_DeltaZ                2198\n",
      "B_DeltaZErr                0\n",
      "B_TagVReChi2               0\n",
      "B_TagVReChi2IP             0\n",
      "B_TagVx                 2198\n",
      "B_TagVxErr                 0\n",
      "B_TagVy                 2198\n",
      "B_TagVyErr                 0\n",
      "B_TagVz                 2198\n",
      "B_TagVzErr                 0\n",
      "B_TagVNTracks              0\n",
      "B_mcErrors                 0\n",
      "B_mcPDG                    0\n",
      "B_isSignal                 0\n",
      "B_CMS_cosTheta             0\n",
      "K_CMS_px                   0\n",
      "K_CMS_py                   0\n",
      "K_CMS_pz                   0\n",
      "K_CMS_pt                   0\n",
      "K_CMS_p                    0\n",
      "K_CMS_E                    0\n",
      "K_CMS_mcE                  0\n",
      "K_CMS_mcP                  0\n",
      "K_CMS_mcPT                 0\n",
      "K_CMS_mcPX                 0\n",
      "K_CMS_mcPY                 0\n",
      "K_CMS_mcPZ                 0\n",
      "K_CMS_mcPhi                0\n",
      "K_genMotherPDG             0\n",
      "K_mcErrors                 0\n",
      "K_mcPDG                    0\n",
      "K_isSignal                 0\n",
      "pi_CMS_px                  0\n",
      "pi_CMS_py                  0\n",
      "pi_CMS_pz                  0\n",
      "pi_CMS_pt                  0\n",
      "pi_CMS_p                   0\n",
      "pi_CMS_E                   0\n",
      "pi_CMS_mcE                 0\n",
      "pi_CMS_mcP                 0\n",
      "pi_CMS_mcPT                0\n",
      "pi_CMS_mcPX                0\n",
      "pi_CMS_mcPY                0\n",
      "pi_CMS_mcPZ                0\n",
      "pi_CMS_mcPhi               0\n",
      "pi_genMotherPDG            0\n",
      "pi_mcErrors                0\n",
      "pi_mcPDG                   0\n",
      "pi_isSignal                0\n",
      "pi_M                       0\n",
      "dtype: int64\n"
     ]
    }
   ],
   "source": [
    "pd.set_option('display.max_rows', None)\n",
    "print(final_df.isna().sum())"
   ]
  },
  {
   "cell_type": "code",
   "execution_count": 31,
   "metadata": {
    "scrolled": true
   },
   "outputs": [
    {
     "data": {
      "text/plain": [
       "count    457247.000000\n",
       "mean         -0.034717\n",
       "std           0.073897\n",
       "min          -0.821423\n",
       "25%          -0.063573\n",
       "50%          -0.023744\n",
       "75%           0.007981\n",
       "max           0.777510\n",
       "Name: B_deltaE, dtype: float64"
      ]
     },
     "execution_count": 31,
     "metadata": {},
     "output_type": "execute_result"
    }
   ],
   "source": [
    "final_df.query('B_isSignal==1').B_deltaE.describe()"
   ]
  },
  {
   "cell_type": "code",
   "execution_count": 23,
   "metadata": {},
   "outputs": [],
   "source": [
    "sorted_signal = final_df.B_deltaE.sort_values()"
   ]
  },
  {
   "cell_type": "code",
   "execution_count": 33,
   "metadata": {},
   "outputs": [
    {
     "data": {
      "text/plain": [
       "count    497252.000000\n",
       "mean         -0.036572\n",
       "std           0.069472\n",
       "min          -0.409595\n",
       "25%          -0.065443\n",
       "50%          -0.024916\n",
       "75%           0.006922\n",
       "max           0.139454\n",
       "Name: B_deltaE, dtype: float64"
      ]
     },
     "execution_count": 33,
     "metadata": {},
     "output_type": "execute_result"
    }
   ],
   "source": [
    "sorted_signal[2500:-2500].describe()"
   ]
  },
  {
   "cell_type": "code",
   "execution_count": 32,
   "metadata": {},
   "outputs": [
    {
     "data": {
      "image/png": "[encoded data removed]",
      "text/plain": [
       "<Figure size 432x288 with 1 Axes>"
      ]
     },
     "metadata": {
      "needs_background": "light"
     },
     "output_type": "display_data"
    }
   ],
   "source": [
    "plt.hist(final_df.query('B_isSignal==0')['B_deltaE'],bins=50, label='missing_photon')\n",
    "plt.hist(final_df.query('B_isSignal==1')['B_deltaE'],bins=50, label='signal',histtype='step')\n",
    "plt.legend()\n",
    "plt.grid()"
   ]
  },
  {
   "cell_type": "code",
   "execution_count": 34,
   "metadata": {},
   "outputs": [],
   "source": [
    "with uproot.recreate('Samples/sig_missPhoton.root') as file:\n",
    "    file['B'] = final_df.query('abs(B_deltaE)<0.4')"
   ]
  },
  {
   "cell_type": "code",
   "execution_count": 35,
   "metadata": {},
   "outputs": [
    {
     "name": "stdout",
     "output_type": "stream",
     "text": [
      "Template DataFrame size: 349610\n",
      "Test DataFrame size: 149834\n"
     ]
    }
   ],
   "source": [
    "from sklearn.model_selection import train_test_split\n",
    "\n",
    "# Split the DataFrame\n",
    "signal_template, signal_test = train_test_split(final_df.query('abs(B_deltaE)<0.4'), test_size=0.3, random_state=0)\n",
    "\n",
    "# Print the sizes of the resulting DataFrames\n",
    "print(\"Template DataFrame size:\", len(signal_template))\n",
    "print(\"Test DataFrame size:\", len(signal_test))\n",
    "\n",
    "with uproot.recreate('sig_template.root') as file:\n",
    "    file['B'] = signal_template\n",
    "with uproot.recreate('sig_test.root') as file:\n",
    "    file['B'] = signal_test"
   ]
  },
  {
   "cell_type": "code",
   "execution_count": null,
   "metadata": {},
   "outputs": [],
   "source": []
  },
  {
   "cell_type": "code",
   "execution_count": null,
   "metadata": {},
   "outputs": [],
   "source": []
  },
  {
   "cell_type": "code",
   "execution_count": 52,
   "metadata": {},
   "outputs": [
    {
     "data": {
      "text/plain": [
       "89"
      ]
     },
     "execution_count": 52,
     "metadata": {},
     "output_type": "execute_result"
    }
   ],
   "source": [
    "misID = df_misID.query('B_isSignal==0 and abs(K_mcPDG)!=321 and pi_mcPDG==111 and K_genMotherPDG==B_mcPDG and pi_genMotherPDG==B_mcPDG')\n",
    "len(misID)"
   ]
  },
  {
   "cell_type": "code",
   "execution_count": 59,
   "metadata": {},
   "outputs": [
    {
     "data": {
      "text/plain": [
       "count    85.000000\n",
       "mean      0.006566\n",
       "std       0.094445\n",
       "min      -0.353203\n",
       "25%      -0.027416\n",
       "50%       0.011654\n",
       "75%       0.058062\n",
       "max       0.288482\n",
       "Name: B_deltaE, dtype: float64"
      ]
     },
     "execution_count": 59,
     "metadata": {},
     "output_type": "execute_result"
    }
   ],
   "source": [
    "misID.query('B_deltaE>-0.4').B_deltaE.describe()"
   ]
  },
  {
   "cell_type": "code",
   "execution_count": 62,
   "metadata": {},
   "outputs": [
    {
     "data": {
      "image/png": "[encoded data removed]",
      "text/plain": [
       "<Figure size 432x288 with 1 Axes>"
      ]
     },
     "metadata": {
      "needs_background": "light"
     },
     "output_type": "display_data"
    }
   ],
   "source": [
    "plt.hist(misID.query('B_deltaE>-0.4')['B_deltaE'],bins=50, label='mixed')\n",
    "plt.legend()\n",
    "plt.grid()"
   ]
  },
  {
   "cell_type": "code",
   "execution_count": 86,
   "metadata": {},
   "outputs": [],
   "source": [
    "with uproot.recreate('Samples/misID.root') as file:\n",
    "    file['B'] = misID.query('abs(B_deltaE)<0.4')"
   ]
  },
  {
   "cell_type": "code",
   "execution_count": null,
   "metadata": {},
   "outputs": [],
   "source": []
  },
  {
   "cell_type": "code",
   "execution_count": 58,
   "metadata": {},
   "outputs": [
    {
     "data": {
      "text/plain": [
       "B_isSignal  B_mcPDG  \n",
       "0.0          511.0       74\n",
       "            -511.0       58\n",
       "             300553.0    17\n",
       "dtype: int64"
      ]
     },
     "execution_count": 58,
     "metadata": {},
     "output_type": "execute_result"
    }
   ],
   "source": [
    "df_mixed.query('B_deltaE>-0.4')[['B_isSignal','B_mcPDG']].value_counts()"
   ]
  },
  {
   "cell_type": "code",
   "execution_count": 63,
   "metadata": {},
   "outputs": [
    {
     "data": {
      "image/png": "[encoded data removed]",
      "text/plain": [
       "<Figure size 432x288 with 1 Axes>"
      ]
     },
     "metadata": {
      "needs_background": "light"
     },
     "output_type": "display_data"
    }
   ],
   "source": [
    "plt.hist(df_mixed.query('B_deltaE>-0.4')['B_deltaE'],bins=50, label='mixed')\n",
    "plt.legend()\n",
    "plt.grid()"
   ]
  },
  {
   "cell_type": "code",
   "execution_count": null,
   "metadata": {},
   "outputs": [],
   "source": []
  },
  {
   "cell_type": "code",
   "execution_count": 66,
   "metadata": {},
   "outputs": [
    {
     "data": {
      "text/plain": [
       "B_isSignal  B_mcPDG  \n",
       " 1.0         521.0       328\n",
       "            -521.0       319\n",
       " 0.0        -521.0        89\n",
       "             521.0        79\n",
       "             300553.0     11\n",
       "-1.0        -1.0           2\n",
       "dtype: int64"
      ]
     },
     "execution_count": 66,
     "metadata": {},
     "output_type": "execute_result"
    }
   ],
   "source": [
    "df_charged.query('B_deltaE>-0.4')[['B_isSignal','B_mcPDG']].value_counts()"
   ]
  },
  {
   "cell_type": "code",
   "execution_count": 67,
   "metadata": {},
   "outputs": [
    {
     "data": {
      "image/png": "[encoded data removed]",
      "text/plain": [
       "<Figure size 432x288 with 1 Axes>"
      ]
     },
     "metadata": {
      "needs_background": "light"
     },
     "output_type": "display_data"
    }
   ],
   "source": [
    "plt.hist(df_charged.query('B_deltaE>-0.4')['B_deltaE'],bins=50, label='charged')\n",
    "plt.legend()\n",
    "plt.grid()"
   ]
  },
  {
   "cell_type": "code",
   "execution_count": 69,
   "metadata": {},
   "outputs": [
    {
     "data": {
      "text/plain": [
       "B_mcPDG    pi_mcPDG  K_mcPDG\n",
       "-521.0     111.0     -321.0     54\n",
       " 521.0     111.0      321.0     44\n",
       " 300553.0  300553.0  -321.0      7\n",
       "                      321.0      4\n",
       " 521.0     111.0      211.0      3\n",
       "-1.0       111.0     -1.0        2\n",
       "-521.0     111.0     -211.0      1\n",
       "dtype: int64"
      ]
     },
     "execution_count": 69,
     "metadata": {},
     "output_type": "execute_result"
    }
   ],
   "source": [
    "df_charged.query('B_deltaE>-0.4 and B_isSignal!=1 and B_mcErrors!=1024')[['B_mcPDG','pi_mcPDG','K_mcPDG']].value_counts()"
   ]
  },
  {
   "cell_type": "code",
   "execution_count": 74,
   "metadata": {},
   "outputs": [
    {
     "data": {
      "text/plain": [
       "16.0      90\n",
       "1040.0     4\n",
       "32.0       3\n",
       "48.0       1\n",
       "Name: B_mcErrors, dtype: int64"
      ]
     },
     "execution_count": 74,
     "metadata": {},
     "output_type": "execute_result"
    }
   ],
   "source": [
    "df_charged.query('B_deltaE>-0.4 and B_isSignal!=1 and B_mcErrors!=1024 and abs(B_mcPDG)==521 and abs(K_mcPDG)==321').B_mcErrors.value_counts()"
   ]
  },
  {
   "cell_type": "code",
   "execution_count": 85,
   "metadata": {},
   "outputs": [],
   "source": [
    "bbbar = pd.concat([df_mixed,df_charged])\n",
    "with uproot.recreate('Samples/charged_mixed.root') as file:\n",
    "    file['B'] = bbbar.query('abs(B_deltaE)<0.4')"
   ]
  },
  {
   "cell_type": "code",
   "execution_count": null,
   "metadata": {},
   "outputs": [],
   "source": []
  },
  {
   "cell_type": "code",
   "execution_count": 78,
   "metadata": {},
   "outputs": [
    {
     "data": {
      "image/png": "[encoded data removed]",
      "text/plain": [
       "<Figure size 432x288 with 1 Axes>"
      ]
     },
     "metadata": {
      "needs_background": "light"
     },
     "output_type": "display_data"
    }
   ],
   "source": [
    "plt.hist(df_ssbar.query('abs(B_deltaE)<0.4')['B_deltaE'],bins=50, label='ssbar')\n",
    "plt.legend()\n",
    "plt.grid()"
   ]
  },
  {
   "cell_type": "code",
   "execution_count": 79,
   "metadata": {},
   "outputs": [
    {
     "data": {
      "text/plain": [
       "11394"
      ]
     },
     "execution_count": 79,
     "metadata": {},
     "output_type": "execute_result"
    }
   ],
   "source": [
    "ssbar=df_ssbar.query('abs(B_deltaE)<0.4')\n",
    "len(ssbar)"
   ]
  },
  {
   "cell_type": "code",
   "execution_count": 82,
   "metadata": {},
   "outputs": [
    {
     "data": {
      "image/png": "[encoded data removed]",
      "text/plain": [
       "<Figure size 432x288 with 1 Axes>"
      ]
     },
     "metadata": {
      "needs_background": "light"
     },
     "output_type": "display_data"
    }
   ],
   "source": [
    "plt.hist(df_ccbar.query('abs(B_deltaE)<0.4')['B_deltaE'],bins=50, label='ccbar')\n",
    "plt.legend()\n",
    "plt.grid()"
   ]
  },
  {
   "cell_type": "code",
   "execution_count": 83,
   "metadata": {},
   "outputs": [
    {
     "data": {
      "text/plain": [
       "12913"
      ]
     },
     "execution_count": 83,
     "metadata": {},
     "output_type": "execute_result"
    }
   ],
   "source": [
    "ccbar=df_ccbar.query('abs(B_deltaE)<0.4')\n",
    "len(ccbar)"
   ]
  },
  {
   "cell_type": "code",
   "execution_count": 84,
   "metadata": {},
   "outputs": [],
   "source": [
    "qqbar = pd.concat([ssbar,ccbar])\n",
    "with uproot.recreate('Samples/ccbar_ssbar.root') as file:\n",
    "    file['B'] = qqbar.query('abs(B_deltaE)<0.4')"
   ]
  },
  {
   "cell_type": "code",
   "execution_count": null,
   "metadata": {},
   "outputs": [
    {
     "name": "stdout",
     "output_type": "stream",
     "text": [
      "Template DataFrame size: 17014\n",
      "Test DataFrame size: 7293\n"
     ]
    }
   ],
   "source": [
    "qqbar = pd.concat([df_ssbar,df_ccbar])\n",
    "\n",
    "# Split the DataFrame\n",
    "bkg_template, bkg_test = train_test_split(qqbar.query('abs(B_deltaE)<0.4'), test_size=0.3, random_state=1)\n",
    "\n",
    "# Print the sizes of the resulting DataFrames\n",
    "print(\"Template DataFrame size:\", len(bkg_template))\n",
    "print(\"Test DataFrame size:\", len(bkg_test))\n",
    "\n",
    "with uproot.recreate('qqbar_template.root') as file:\n",
    "    file['B'] = bkg_template\n",
    "with uproot.recreate('qqbar_test.root') as file:\n",
    "    file['B'] = bkg_test"
   ]
  },
  {
   "cell_type": "code",
   "execution_count": null,
   "metadata": {},
   "outputs": [],
   "source": []
  }
 ],
 "metadata": {
  "kernelspec": {
   "display_name": "Python 3 (Belle2)",
   "language": "python",
   "name": "python3"
  },
  "language_info": {
   "codemirror_mode": {
    "name": "ipython",
    "version": 3
   },
   "file_extension": ".py",
   "mimetype": "text/x-python",
   "name": "python",
   "nbconvert_exporter": "python",
   "pygments_lexer": "ipython3",
   "version": "3.8.8"
  }
 },
 "nbformat": 4,
 "nbformat_minor": 4
}
